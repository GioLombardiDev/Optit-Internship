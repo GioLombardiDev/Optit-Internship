{
 "cells": [
  {
   "cell_type": "markdown",
   "id": "d5731b9f",
   "metadata": {},
   "source": [
    "# Test comparison across models"
   ]
  },
  {
   "cell_type": "markdown",
   "id": "6dc9d6f1",
   "metadata": {},
   "source": [
    "In this notebook, we compare all the developed models with the company’s currently deployed models on a held-out block of data (cold semester 2024–2025).\n",
    "\n",
    "The company’s models are based on classical machine-learning approaches:\n",
    "\n",
    "* [**XGBoost**](https://arxiv.org/abs/1603.02754): an optimized gradient-boosting framework that builds an ensemble of regression trees sequentially, where each new tree corrects the errors of the previous ones. It includes regularization, efficient handling of missing values, and parallelized computation for high predictive performance and scalability.\n",
    "\n",
    "* **[SVMR](https://arxiv.org/abs/1603.02754) (Support Vector Machine Regression)**: a kernel-based regression model that finds the function best fitting the data by maximizing the margin around the regression hyperplane, offering strong performance on nonlinear relationships through the use of kernel transformations. "
   ]
  },
  {
   "cell_type": "markdown",
   "id": "24105762",
   "metadata": {},
   "source": [
    "### Final Model Testing Procedure"
   ]
  },
  {
   "cell_type": "markdown",
   "id": "d8b9b128",
   "metadata": {},
   "source": [
    "Final model evaluation is performed via **rolling cross-validation** over **one year of data** (May 2024 → May 2025). Evaluation origins advance **daily**, and at each origin we generate forecasts for either the **daily horizon** (24 hours) or the **weekly horizon** (168 hours), providing dense temporal coverage. To control computation, the model is **refit only once every seven days**; intermediate origins reuse the most recent fit.\n",
    "\n",
    "In practice, for each day between mid-May 2024 and mid-May 2025:\n",
    "\n",
    "1. **Refit schedule:** If it’s the first origin (test window) or the **7th, 14th, 21st, …** (i.e., `origin_index % 7 == 0`), refit on all data available up to that day; otherwise, reuse the last fitted model.\n",
    "2. **Forecast:** From that origin, produce an **h-step** forecast (h = 24 for the daily horizon; h = 168 for the weekly horizon).\n",
    "\n",
    "Forecasts are stored and subsequently evaluated and compared across models in the `Test comparison.ipynb` notebook."
   ]
  },
  {
   "cell_type": "markdown",
   "id": "08826496",
   "metadata": {},
   "source": [
    "### Evaluation Summary\n"
   ]
  },
  {
   "cell_type": "markdown",
   "id": "4844c7a0",
   "metadata": {},
   "source": [
    "The evaluation results reveal the following key insights:\n",
    "\n",
    "1. **SARIMAX performs comparably to the company’s existing machine learning models**, indicating that a well-calibrated statistical model can match the performance of more complex, ML-based approaches.\n",
    "\n",
    "2. **MSTL performs similarly to the naïve baseline across most time series**, with the notable exception of **series F5**, where it comes close to SARIMAX. This can be attributed to F5's pronounced **weekly seasonality**, which MSTL captures effectively, unlike the naïve model. This suggests that **MSTL is particularly well-suited as a baseline model for time series with strong weekly patterns**."
   ]
  },
  {
   "cell_type": "markdown",
   "id": "802f721a",
   "metadata": {},
   "source": [
    "## Import Libreries and Data"
   ]
  },
  {
   "cell_type": "markdown",
   "id": "6af15ab1",
   "metadata": {},
   "source": [
    "You can run the notebook in two ways:\n",
    "\n",
    "1. **Google Colab**: place the project folder `heat-forecast` in **MyDrive**. The setup cell below will mount Drive and automatically add `MyDrive/heat-forecast/src` to `sys.path` so `import heat_forecast` works out of the box.\n",
    "\n",
    "2. **Local machine**:\n",
    "\n",
    "   * **Installing our package:** from the project root, run `pip install -e .` once (editable install). Then you can open the notebook anywhere and import the package normally.\n",
    "   * **Alternative:** if you’re running the notebook from `.../heat-forecast/notebooks/` without installing the package, the setup cell will detect `../src` and automatically add it to `sys.path`."
   ]
  },
  {
   "cell_type": "code",
   "execution_count": null,
   "id": "d9fcb0dd",
   "metadata": {},
   "outputs": [],
   "source": [
    "# === Do not edit below ===\n",
    "# --- Detect if running on Google Colab & Set base dir ---\n",
    "# %cd /home/giovanni.lombardi/heat-forecast/notebooks\n",
    "import subprocess\n",
    "from pathlib import Path\n",
    "import sys\n",
    "\n",
    "def in_colab() -> bool:\n",
    "    try:\n",
    "        import google.colab  # type: ignore\n",
    "        return True\n",
    "    except Exception:\n",
    "        return False\n",
    "\n",
    "# Install required packages only if not already installed\n",
    "def pip_install(pkg: str):\n",
    "    subprocess.check_call([sys.executable, \"-m\", \"pip\", \"install\", \"-q\", pkg])\n",
    "\n",
    "# Set base directory and handle environment\n",
    "if in_colab():\n",
    "    # Make sure IPython is modern (avoids the old %autoreload/imp issue if you ever use it)\n",
    "    pip_install(\"ipython>=8.25\")\n",
    "    pip_install(\"ipykernel>=6.29\")\n",
    "    \n",
    "    def install(package):\n",
    "        subprocess.check_call([sys.executable, \"-m\", \"pip\", \"install\", package])\n",
    "\n",
    "    for pkg in [\"statsmodels\", \"statsforecast\", \"mlforecast\"]:\n",
    "        pip_install(pkg)\n",
    "\n",
    "    # Mount Google Drive\n",
    "    from google.colab import drive  # type: ignore\n",
    "    drive.mount('/content/drive')\n",
    "\n",
    "    # Set base directory to your Drive project folder\n",
    "    BASE_DIR = Path('/content/drive/MyDrive/heat-forecast')\n",
    "\n",
    "    # Add `src/` to sys.path for custom package imports\n",
    "    SRC_PATH = BASE_DIR / 'src'\n",
    "    if str(SRC_PATH) not in sys.path:\n",
    "        sys.path.append(str(SRC_PATH))\n",
    "\n",
    "    # Sanity checks (helpful error messages if path is wrong)\n",
    "    assert SRC_PATH.exists(), f\"Expected '{SRC_PATH}' to exist. Fix BASE_DIR.\"\n",
    "    pkg_dir = SRC_PATH / \"heat_forecast\"\n",
    "    assert pkg_dir.exists(), f\"Expected '{pkg_dir}' package directory.\"\n",
    "    init_file = pkg_dir / \"__init__.py\"\n",
    "    assert init_file.exists(), f\"Missing '{init_file}'. Add it so Python treats this as a package.\"\n",
    "\n",
    "else:\n",
    "    # Local: either rely on editable install (pip install -e .) or add src/ when running from repo\n",
    "    # Assume notebook lives in PROJECT_ROOT/notebooks/\n",
    "    BASE_DIR = Path.cwd().resolve().parent\n",
    "    SRC_PATH = BASE_DIR / \"src\"\n",
    "\n",
    "    added_src = False\n",
    "    if (SRC_PATH / \"heat_forecast\").exists() and str(SRC_PATH) not in sys.path:\n",
    "        sys.path.append(str(SRC_PATH))\n",
    "        added_src = True\n",
    "\n",
    "# --- Logging setup ---\n",
    "import logging\n",
    "from zoneinfo import ZoneInfo\n",
    "from datetime import datetime\n",
    "\n",
    "LOG_DIR  = (BASE_DIR / \"logs\")\n",
    "LOG_DIR.mkdir(parents=True, exist_ok=True)\n",
    "LOG_FILE = LOG_DIR / \"run.log\"\n",
    "PREV_LOG = LOG_DIR / \"run.prev.log\"\n",
    "\n",
    "# If there's a previous run.log with content, archive it to run.prev.log\n",
    "if LOG_FILE.exists() and LOG_FILE.stat().st_size > 0:\n",
    "    try:\n",
    "        # Replace old run.prev.log if present\n",
    "        if PREV_LOG.exists():\n",
    "            PREV_LOG.unlink()\n",
    "        LOG_FILE.rename(PREV_LOG)\n",
    "    except Exception as e:\n",
    "        # Fall back to truncating if rename fails (e.g., file locked)\n",
    "        print(f\"[warn] Could not archive previous log: {e}. Truncating current run.log.\")\n",
    "        LOG_FILE.write_text(\"\")\n",
    "\n",
    "# Configure logging: fresh file for this run + echo to notebook/stdout\n",
    "file_handler   = logging.FileHandler(LOG_FILE, mode=\"w\", encoding=\"utf-8\")\n",
    "stream_handler = logging.StreamHandler(sys.stdout)\n",
    "\n",
    "fmt = logging.Formatter(\"%(asctime)s | %(levelname)s | %(name)s | %(message)s\",\n",
    "                        datefmt=\"%m-%d %H:%M:%S\")\n",
    "file_handler.setFormatter(fmt)\n",
    "stream_handler.setFormatter(fmt)\n",
    "\n",
    "root = logging.getLogger()\n",
    "root.handlers[:] = [file_handler, stream_handler]  # replace handlers (important in notebooks)\n",
    "root.setLevel(logging.INFO)\n",
    "\n",
    "# Use Rome time\n",
    "logging.Formatter.converter = lambda *args: datetime.now(ZoneInfo(\"Europe/Rome\")).timetuple()\n",
    "\n",
    "logging.captureWarnings(True)\n",
    "logging.info(\"=== Logging started (fresh current run) ===\")\n",
    "logging.info(\"Previous run (if any): %s\", PREV_LOG if PREV_LOG.exists() else \"none\")\n",
    "\n",
    "if added_src:\n",
    "    logging.info(\"heat_forecast not installed; added src/ to sys.path\")\n",
    "else:\n",
    "    logging.info(\"heat_forecast imported without modifying sys.path (likely installed)\")\n",
    "\n",
    "OPTUNA_DIR = BASE_DIR / \"results\" / \"finetuning\" / \"lstm\"\n",
    "OPTUNA_DIR.mkdir(parents=True, exist_ok=True)\n",
    "logging.info(\"BASE_DIR (make sure it's '*/heat-forecast/', else cd and re-run): %s\", BASE_DIR)\n",
    "logging.info(\"LOG_DIR: %s\", LOG_DIR)\n",
    "logging.info(\"OPTUNA_DIR: %s\", OPTUNA_DIR)"
   ]
  },
  {
   "cell_type": "markdown",
   "id": "d74379ea",
   "metadata": {},
   "source": [
    "Ensure [compatibility with Numba](https://numba.readthedocs.io/en/stable/user/installing.html#numba-support-info)."
   ]
  },
  {
   "cell_type": "code",
   "execution_count": null,
   "id": "55515412",
   "metadata": {},
   "outputs": [],
   "source": [
    "# === Do not edit below ===\n",
    "import sys, numpy, numba\n",
    "logging.info(\"=== Current Environment ===\")\n",
    "logging.info(\"Python : %s\", sys.version.split()[0])\n",
    "logging.info(\"NumPy  : %s\", numpy.__version__)\n",
    "logging.info(\"Numba  : %s\", numba.__version__)"
   ]
  },
  {
   "cell_type": "markdown",
   "id": "9008fe64",
   "metadata": {},
   "source": [
    "Imports:"
   ]
  },
  {
   "cell_type": "code",
   "execution_count": null,
   "id": "2e8522bb",
   "metadata": {},
   "outputs": [],
   "source": [
    "# --- IPython Magic ---\n",
    "%load_ext autoreload\n",
    "%autoreload 2\n",
    "\n",
    "# --- Standard Library ---\n",
    "import sys\n",
    "import yaml\n",
    "import warnings\n",
    "import logging\n",
    "from collections import defaultdict\n",
    "from datetime import datetime\n",
    "from tqdm.notebook import tqdm\n",
    "from typing import Any, Dict, Optional, Tuple, Iterable, Callable\n",
    "from functools import partial\n",
    "\n",
    "# --- Logging Configuration ---\n",
    "logging.basicConfig(\n",
    "    level=logging.INFO,\n",
    "    format=\"%(asctime)s | %(levelname)s | %(name)s | %(message)s\",\n",
    "    datefmt=\"%H:%M:%S\",\n",
    "    force=True,\n",
    "    stream=sys.stdout\n",
    ")\n",
    "\n",
    "# --- Data Handling ---\n",
    "import numpy as np\n",
    "import pandas as pd\n",
    "pd.set_option('display.float_format', '{:.3f}'.format)\n",
    "\n",
    "# --- Plotting & Visualization ---\n",
    "import matplotlib.pyplot as plt\n",
    "import matplotlib as mpl\n",
    "from cycler import cycler\n",
    "import plotly.graph_objects as go\n",
    "import plotly.express as px\n",
    "from IPython.display import display, HTML\n",
    "\n",
    "# Set plot style and parameters\n",
    "plt.style.use(\"seaborn-v0_8\")\n",
    "mpl.rcParams.update({\n",
    "    'font.size': 12,\n",
    "    'axes.titlesize': 12,\n",
    "    'axes.labelsize': 10,\n",
    "    'xtick.labelsize': 10,\n",
    "    'ytick.labelsize': 10,\n",
    "    'legend.fontsize': 10,\n",
    "    'figure.titlesize': 14,\n",
    "    'axes.grid': True,\n",
    "    'axes.grid.which': 'both',\n",
    "})\n",
    "\n",
    "# --- Forecasting Models ---\n",
    "from statsforecast import StatsForecast\n",
    "from statsforecast.models import SeasonalNaive\n",
    "\n",
    "# --- Project-Specific Utilities ---\n",
    "from heat_forecast.utils.plotting import (\n",
    "    plotly_cutoffs_with_exog, display_scrollable,\n",
    "    add_season_background, plotly_daily_seasonality,\n",
    "    plot_acf_diagnostics\n",
    ")\n",
    "\n",
    "from heat_forecast.utils.evaluation import (\n",
    "    evaluate_cv_forecasts, display_cv_summary, cv_evaluation_summary,\n",
    "    compute_loss_diffs, plotly_cv_metric_by_cutoff,\n",
    "    by_horizon_preds, compute_error_stats_by_horizon,\n",
    "    plotly_models_vs_horizon\n",
    ")\n",
    "from heat_forecast.utils.cv_utils import display_info_cv\n",
    "\n",
    "logging.info(\"All imports successful.\")"
   ]
  },
  {
   "cell_type": "markdown",
   "id": "6e6a1d9c",
   "metadata": {},
   "source": [
    "Import pre-elaborated data."
   ]
  },
  {
   "cell_type": "code",
   "execution_count": null,
   "id": "ae189e38",
   "metadata": {},
   "outputs": [],
   "source": [
    "heat_path = BASE_DIR / 'data' / 'timeseries_preprocessed' / 'heat.csv'\n",
    "aux_path = BASE_DIR / 'data' / 'timeseries_preprocessed' / 'auxiliary.csv'\n",
    "heat_df = pd.read_csv(heat_path, parse_dates=['ds'])\n",
    "aux_df = pd.read_csv(aux_path, parse_dates=['ds'])"
   ]
  },
  {
   "cell_type": "markdown",
   "id": "f797a06a",
   "metadata": {},
   "source": [
    "## Load Saved Test Results"
   ]
  },
  {
   "cell_type": "code",
   "execution_count": null,
   "id": "e7292912",
   "metadata": {},
   "outputs": [],
   "source": [
    "TESTS_DIR = BASE_DIR / 'results' / 'test'\n",
    "cv_groups = defaultdict(list)    # {(Fi, horizon): [(cv_df, run_dir)]}\n",
    "run_tracker = defaultdict(list)  # {(model, Fi, horizon): [(timestamp, run_dir)]}\n",
    "model_folder_to_name_map = {\n",
    "    \"mstl\": \"MSTL\",\n",
    "    \"sarimax\": \"SARIMAX\",\n",
    "    \"lstm\": \"LSTM\",\n",
    "    \"xgboost\": \"XGBoost\",\n",
    "    \"svmr\": \"SVMR\",\n",
    "}\n",
    "cutoffs = None  # Will be set to the unique cutoffs from the first loaded DataFrame\n",
    "\n",
    "# --- Collect all valid run_dirs ---\n",
    "for model_dir in TESTS_DIR.iterdir():\n",
    "    if not model_dir.is_dir():\n",
    "        continue\n",
    "\n",
    "    for run_dir in model_dir.iterdir():\n",
    "        if not run_dir.is_dir():\n",
    "            logging.debug(f\"Unexpected non-directory in folder: {run_dir.relative_to(TESTS_DIR)}. \"\n",
    "                            f\"Non-directory: {run_dir}.\")\n",
    "            continue\n",
    "\n",
    "        parts = run_dir.name.split('_')\n",
    "        if len(parts) < 3 or not parts[0].startswith('F'):\n",
    "            logging.debug(f\"Skipping folder {run_dir.relative_to(TESTS_DIR)} due to unexpected format. \"\n",
    "                            f\"Folder name: {run_dir.name}. \"\n",
    "                            f\"Expected format: <unique_id>_<horizon_type>_test_<model_name>_<timestamp>.\")\n",
    "            continue\n",
    "\n",
    "        fi = parts[0]\n",
    "        horizon = parts[1]\n",
    "        timestamp_str = parts[-1]\n",
    "        model_run = parts[-2]\n",
    "        if model_run not in model_folder_to_name_map.keys():\n",
    "            if model_run.split('-')[0] in model_folder_to_name_map.keys(): # -> it's a variant of that model, ignore\n",
    "                continue\n",
    "            logging.debug(f\"Model '{model_run}' (from run {run_dir.relative_to(TESTS_DIR)}) not recognized. \"\n",
    "                            f\"Update the dict model_folder_to_name_map at the top of this cell.\"\n",
    "                            f\"Using model_run as model name.\")\n",
    "        if model_dir.name not in model_folder_to_name_map.keys():\n",
    "            logging.debug(f\"Model for folder '{model_dir.name}' not recognized. \"\n",
    "                            f\"Update the dict model_folder_to_name_map at the top of this cell.\"\n",
    "                            f\"Using folder name as model name.\")\n",
    "        model = model_folder_to_name_map.get(model_dir.name, model_dir.name)\n",
    "\n",
    "        try:\n",
    "            timestamp = datetime.strptime(timestamp_str, \"%Y%m%dT%H%M%S\")\n",
    "        except ValueError:\n",
    "            logging.debug(f\"Skipping run with invalid timestamp: {run_dir}\")\n",
    "            continue\n",
    "\n",
    "        run_tracker[(model, fi, horizon)].append((timestamp, run_dir))\n",
    "\n",
    "# ----------- Select latest runs and load them -----------\n",
    "for key, runs in run_tracker.items():\n",
    "    model, fi, horizon = key\n",
    "    runs_sorted = sorted(runs, key=lambda x: x[0], reverse=True)\n",
    "\n",
    "    if len(runs_sorted) > 1:\n",
    "        logging.debug(f\"Multiple runs found for model={model}, id={fi}, horizon={horizon}. Using latest only.\")\n",
    "\n",
    "    latest_run_dir = runs_sorted[0][1]\n",
    "    cv_path = latest_run_dir / \"cv_df.parquet\"\n",
    "\n",
    "    if not cv_path.exists():\n",
    "        logging.debug(f\"cv_df.parquet not found for latest run: {latest_run_dir}\")\n",
    "        continue\n",
    "\n",
    "    try:\n",
    "        df = pd.read_parquet(cv_path)\n",
    "    except Exception as e:\n",
    "        logging.debug(f\"Failed to load {cv_path}: {e}\")\n",
    "        raise\n",
    "\n",
    "    if not {'unique_id', 'ds'}.issubset(df.columns):\n",
    "        raise ValueError(f\"DataFrame from {cv_path} does not contain required columns ['unique_id', 'ds']\")\n",
    "\n",
    "    df.drop(columns=['y'], inplace=True, errors='ignore')  # Drop 'y' column if it exists\n",
    "    df = df.set_index(['unique_id', 'ds', 'cutoff'])\n",
    "    df.index.names = ['unique_id', 'ds', 'cutoff']\n",
    "    cv_groups[(fi, horizon)].append((df, latest_run_dir, model))\n",
    "\n",
    "# Build tidy records\n",
    "rows = []\n",
    "for (fi, horizon), values in cv_groups.items():\n",
    "    for el in values:\n",
    "        rows.append({\n",
    "            \"unique_id\": fi,\n",
    "            \"horizon\": horizon,\n",
    "            \"model\": el[2],\n",
    "            \"run\": str(el[1].relative_to(TESTS_DIR)),\n",
    "        })\n",
    "\n",
    "# Log it nicely\n",
    "df = (\n",
    "    pd.DataFrame(rows)\n",
    "      .sort_values([\"unique_id\", \"horizon\", \"model\", \"run\"])\n",
    "      .reset_index(drop=True)\n",
    ")\n",
    "df = df.set_index([\"unique_id\", \"horizon\", \"model\"])[[\"run\"]]\n",
    "with pd.option_context(\"display.max_rows\", None, \"display.width\", 160):\n",
    "    logging.info(\"Successfully selected the following runs:\")\n",
    "    display(df)\n",
    "\n",
    "# ----------- Merge DataFrames -----------\n",
    "merged_results_tmp = {} # {(Fi, horizon): (merged_df, for_cv)}\n",
    "times = {}  # {(Fi, horizon): times_df}\n",
    "\n",
    "for (fi, horizon), value in cv_groups.items():\n",
    "    dfs, run_dirs, models = zip(*value)  \n",
    "\n",
    "    rows = []           \n",
    "\n",
    "    for i in range(len(dfs)):\n",
    "        run_dir = run_dirs[i]\n",
    "        model_name = models[i]\n",
    "        df = dfs[i]\n",
    "\n",
    "        # default record (in case metadata is missing)\n",
    "        rec = {\n",
    "            \"model\": model_name,\n",
    "            \"run_dir\": str(run_dir),\n",
    "            \"step_size\": pd.NA,\n",
    "            \"test_hours\": pd.NA,\n",
    "            \"end_test_cv\": pd.NA,\n",
    "            \"avg_el_per_fit\": pd.NA,\n",
    "        }\n",
    "\n",
    "        metadata_path = run_dir / \"metadata.yaml\"\n",
    "        try:\n",
    "            with open(metadata_path, \"r\") as f:\n",
    "                md = yaml.safe_load(f)\n",
    "            if not isinstance(md, dict):\n",
    "                md = {}\n",
    "        except FileNotFoundError:\n",
    "            logging.debug(f\"Metadata file not found for {run_dir}.\")\n",
    "            rows.append(rec)\n",
    "            continue\n",
    "\n",
    "        for_cv = md.get(\"for_cv\", {}) if isinstance(md.get(\"for_cv\", {}), dict) else {}\n",
    "\n",
    "        ss  = for_cv.get(\"step_size\", pd.NA)\n",
    "        th  = for_cv.get(\"test_hours\", pd.NA)\n",
    "        etc = for_cv.get(\"end_test_cv\", pd.NA)\n",
    "        ae  = md.get(\"avg_el_per_fit\", pd.NA)\n",
    "        ss  = pd.to_numeric(ss, errors=\"coerce\") if ss is not pd.NA else pd.NA\n",
    "        th  = pd.to_numeric(th, errors=\"coerce\") if th is not pd.NA else pd.NA\n",
    "        etc = pd.to_datetime(etc, errors=\"coerce\") if etc is not pd.NA else pd.NA\n",
    "        ae  = pd.to_numeric(ae, errors=\"coerce\") if ae is not pd.NA else pd.NA\n",
    "\n",
    "        if horizon == 'week' and ss is not pd.NA and ss == 24:\n",
    "            logging.debug(f\"Adjusting step_size from 24 to 168 for weekly horizon in {run_dir}.\")\n",
    "            ss = 24*7\n",
    "            h = 24*7\n",
    "            n_windows = (th - h) // ss + 1\n",
    "            all_cutoffs = pd.to_datetime(df.reset_index()['cutoff'].unique())\n",
    "            weekly_cutoffs = [\n",
    "                etc - pd.Timedelta(hours=th) + pd.Timedelta(hours=ss * i)\n",
    "                for i in range(n_windows)\n",
    "            ]\n",
    "            expected = all_cutoffs[::7]\n",
    "            assert set(weekly_cutoffs) == set(expected), (\n",
    "                f\"Weekly cutoffs do not match expected for {run_dir}: \\n\"\n",
    "                f\"actual = \\n{weekly_cutoffs}, \\n\"\n",
    "                f\"expected = \\n{expected}, \\n\" \n",
    "                f\"th_actual = {(weekly_cutoffs[-1] + pd.Timedelta(hours=h) - weekly_cutoffs[0]).total_seconds() // 3600} \\n\"\n",
    "                f\"th_expected = {(expected[-1] + pd.Timedelta(hours=h) - expected[0]).total_seconds() // 3600}\"\n",
    "            )\n",
    "            etc_actual = weekly_cutoffs[-1] + pd.Timedelta(hours=h)\n",
    "            th_actual = int((etc_actual - weekly_cutoffs[0]).total_seconds() // 3600)\n",
    "            etc = etc_actual\n",
    "            th = th_actual\n",
    "            mask = df.index.get_level_values('cutoff').isin(weekly_cutoffs)\n",
    "            df = df[mask]\n",
    "\n",
    "        rec.update({\n",
    "            \"step_size\": ss,\n",
    "            \"test_hours\": th,\n",
    "            \"end_test_cv\": etc,\n",
    "            \"avg_el_per_fit\": ae,\n",
    "        })\n",
    "\n",
    "        to_log = []\n",
    "        if pd.isna(ss) or pd.isna(th) or pd.isna(ae):\n",
    "            if pd.isna(ss) or pd.isna(th):\n",
    "                to_log.append(\"Missing CV params\")\n",
    "            if pd.isna(ae):\n",
    "                to_log.append(\"Missing elapsed\")\n",
    "            logging.debug(f\"{' & '.join(to_log)} for {run_dir}.\")\n",
    "\n",
    "        rows.append(rec)\n",
    "\n",
    "        if i == 0:\n",
    "            merged_df = df.copy()\n",
    "        else:\n",
    "            merged_df = merged_df.join(df, how='outer')\n",
    "\n",
    "    merged_df = merged_df.reset_index()\n",
    "\n",
    "    # Build the DataFrame you expect: one row per model/run\n",
    "    for_cv_df = pd.DataFrame.from_records(rows, index='model')\n",
    "    if len(for_cv_df['step_size'].dropna().unique()) > 1:\n",
    "        raise ValueError(f\"Different step sizes detected for Fi={fi}, horizon={horizon}:\\n {for_cv_df['step_size'].dropna().unique()}\")\n",
    "    if len(for_cv_df['test_hours'].dropna().unique()) > 1:\n",
    "        raise ValueError(f\"Different test hours detected for Fi={fi}, horizon={horizon}:\\n {for_cv_df['test_hours'].dropna().unique()}\")\n",
    "    if len(for_cv_df['end_test_cv'].dropna().unique()) > 1:\n",
    "        raise ValueError(f\"Different end_test_cv detected for Fi={fi}, horizon={horizon}:\\n {for_cv_df['end_test_cv'].dropna().unique()}\")\n",
    "\n",
    "    # we assume at least one metadata was found\n",
    "    for_cv = {\n",
    "        'step_size': for_cv_df['step_size'].dropna().unique()[0],\n",
    "        'test_hours': for_cv_df['test_hours'].dropna().unique()[0],\n",
    "        'end_test_cv': for_cv_df['end_test_cv'].dropna().unique()[0],\n",
    "    }\n",
    "\n",
    "    merged_results_tmp[(fi, horizon)] = (merged_df, for_cv)\n",
    "    times[(fi, horizon)] = for_cv_df[\"avg_el_per_fit\"]\n",
    "\n",
    "merged_results = {}  # {(Fi, horizon): merged_df}\n",
    "\n",
    "# ----------- Add Naive forecast -----------\n",
    "for (fi, horizon), (df, for_cv) in merged_results_tmp.items():\n",
    "    naive_model = SeasonalNaive(season_length=24, alias='Naive24h')\n",
    "    sf = StatsForecast(models=[naive_model], freq='h')\n",
    "\n",
    "    heat_id_df = heat_df[heat_df['unique_id'] == fi].copy()\n",
    "    \n",
    "    h = 24*7 if horizon == 'week' else 24\n",
    "    step_size = for_cv['step_size']\n",
    "    test_hours = for_cv['test_hours']\n",
    "    end_test_cv = for_cv['end_test_cv']\n",
    "    n_windows = (test_hours - h) // step_size + 1\n",
    "    full_df = heat_id_df[heat_id_df['ds'] <= end_test_cv]  \n",
    "\n",
    "    cv_naive = sf.cross_validation(\n",
    "        h=h,\n",
    "        df=full_df,\n",
    "        n_windows=n_windows,\n",
    "        step_size=step_size,  \n",
    "        test_size=test_hours,  \n",
    "        input_size=None,  \n",
    "        refit=True,  \n",
    "    )\n",
    "\n",
    "    df = df.merge(\n",
    "        cv_naive,\n",
    "        on=['unique_id', 'ds', 'cutoff'],\n",
    "        how='outer',\n",
    "    )\n",
    "\n",
    "    merged_results[(fi, horizon)] = df.copy()"
   ]
  },
  {
   "cell_type": "markdown",
   "id": "5951de5d",
   "metadata": {},
   "source": [
    "## Series F1"
   ]
  },
  {
   "cell_type": "markdown",
   "id": "482bc632",
   "metadata": {},
   "source": [
    "Plot target during test period:"
   ]
  },
  {
   "cell_type": "code",
   "execution_count": null,
   "id": "b3a0d6d4",
   "metadata": {},
   "outputs": [],
   "source": [
    "def plot_target_series(heat_df: pd.DataFrame, unique_id: str):\n",
    "    y = heat_df[heat_df['unique_id'] == unique_id].set_index('ds')['y']\n",
    "    y_test = y[y.index > pd.Timestamp('2024-09-01')]\n",
    "\n",
    "    fig = go.Figure()\n",
    "\n",
    "    fig.add_trace(\n",
    "        go.Scatter(\n",
    "            x=y_test.index,\n",
    "            y=y_test.values,\n",
    "            mode=\"lines\",\n",
    "        )\n",
    "    )\n",
    "    fig.update_layout(\n",
    "        title=f\"Hourly target series - {unique_id}\",\n",
    "        xaxis_title=\"Time\",\n",
    "        yaxis_title=\"Heat demand (kW/h)\",\n",
    "        hovermode=\"x unified\",\n",
    "        template=\"plotly_white\",\n",
    "        width=1000,\n",
    "        height=500,\n",
    "    )\n",
    "\n",
    "    # Add background fill by season\n",
    "    add_season_background(fig, y_test.index.min(), y_test.index.max())\n",
    "\n",
    "    html = fig.to_html(include_plotlyjs=\"inline\", full_html=False)\n",
    "    display(HTML(html))\n",
    "\n",
    "plot_target_series(heat_df, 'F1')"
   ]
  },
  {
   "cell_type": "markdown",
   "id": "e8bf0778",
   "metadata": {},
   "source": [
    "Plot daily mean of target:"
   ]
  },
  {
   "cell_type": "code",
   "execution_count": null,
   "id": "873b7758",
   "metadata": {},
   "outputs": [],
   "source": [
    "def plot_target_series_daily_agg(heat_df: pd.DataFrame, unique_id: str):\n",
    "    y = heat_df[heat_df['unique_id'] == unique_id].set_index('ds')['y']\n",
    "    y_test = y[y.index > pd.Timestamp('2024-09-01')]\n",
    "    y_test_daily = y_test.resample('D').mean()\n",
    "\n",
    "    fig = go.Figure()\n",
    "    fig.add_trace(\n",
    "        go.Scatter(\n",
    "            x=y_test_daily.index,\n",
    "            y=y_test_daily.values,\n",
    "            mode=\"lines\",\n",
    "        )\n",
    "    )\n",
    "    fig.update_layout(\n",
    "        title=\"Daily average of the target series\",\n",
    "        xaxis_title=\"Time\",\n",
    "        yaxis_title=\"Average heat demand (kW/h)\",\n",
    "        hovermode=\"x unified\",\n",
    "        template=\"plotly_white\",\n",
    "        width=1000,\n",
    "        height=500,\n",
    "    )\n",
    "\n",
    "    # Add background fill by season\n",
    "    add_season_background(fig, y_test.index.min(), y_test.index.max())\n",
    "\n",
    "    html = fig.to_html(include_plotlyjs=\"inline\", full_html=False)\n",
    "    display(HTML(html))\n",
    "\n",
    "plot_target_series_daily_agg(heat_df, 'F1')"
   ]
  },
  {
   "cell_type": "markdown",
   "id": "c9c5f28a",
   "metadata": {},
   "source": [
    "### Daily horizon"
   ]
  },
  {
   "cell_type": "code",
   "execution_count": null,
   "id": "a8d9ef90",
   "metadata": {},
   "outputs": [],
   "source": [
    "cv_df = merged_results[('F1', 'day')].copy()\n",
    "times_df = times[('F1', 'day')].copy()\n",
    "display_info_cv(cv_df)"
   ]
  },
  {
   "cell_type": "markdown",
   "id": "8ff9f744",
   "metadata": {},
   "source": [
    "#### Autumn"
   ]
  },
  {
   "cell_type": "code",
   "execution_count": null,
   "id": "61449421",
   "metadata": {},
   "outputs": [],
   "source": [
    "autumn_F1_day_df = cv_df[\n",
    "    (cv_df['cutoff'] >= pd.Timestamp('2024-09-20')) &\n",
    "    (cv_df['cutoff'] <= pd.Timestamp('2024-12-21'))\n",
    "].copy()\n",
    "display_info_cv(autumn_F1_day_df)"
   ]
  },
  {
   "cell_type": "markdown",
   "id": "5ffe0e44",
   "metadata": {},
   "source": [
    "##### Per-Window Error Statistics"
   ]
  },
  {
   "cell_type": "code",
   "execution_count": null,
   "id": "47278c70",
   "metadata": {},
   "outputs": [],
   "source": [
    "all_results = evaluate_cv_forecasts(\n",
    "    cv_df=autumn_F1_day_df,\n",
    "    target_df=heat_df, \n",
    "    period_for_nmae=(pd.Timestamp('2024-09-20'), pd.Timestamp('2024-12-21'))\n",
    ")\n",
    "summary = cv_evaluation_summary(all_results)\n",
    "_ = display_cv_summary(summary, sort_metric='mae', times_df=times_df) "
   ]
  },
  {
   "cell_type": "code",
   "execution_count": null,
   "id": "0faa2d92",
   "metadata": {},
   "outputs": [],
   "source": [
    "all_loss_diffs = compute_loss_diffs(\n",
    "    all_results,\n",
    "    baseline_model='LSTM'\n",
    ")\n",
    "ld_summary = cv_evaluation_summary(all_loss_diffs)\n",
    "_ = display_cv_summary(ld_summary, are_loss_diffs=True)"
   ]
  },
  {
   "cell_type": "markdown",
   "id": "2e568bc8",
   "metadata": {},
   "source": [
    "The main insights emerging from this initial examination of the error statistics are summarized below.\n",
    "\n",
    "* **Accuracy.**\n",
    "  The results suggest that the LSTM model **slightly outperforms** the alternative approaches. However, the **standard deviations are relatively large** compared with the differences in mean and median performance, approximately two to three times higher, even when considering the distributions of loss differences. This pattern indicates that the observed improvements may **not be statistically significant**.\n",
    "\n",
    "  In contrast, the **win-rate analysis** shows that the LSTM achieves the best performance in **more than twice as many validation windows** as any other model (40% versus ≤17% for the others), providing stronger evidence of a genuine performance advantage. The elevated standard deviations, including those derived from per-window differences, may partly reflect **strong autocorrelations** at seasonal lags (24 h and 168 h) and **heteroscedasticity** in the data, likely induced by **seasonal regime shifts** between summer and winter periods.\n",
    "\n",
    "  It is also noteworthy that, when restricting the comparison to the two best-performing models, **LSTM and XGBoost**, the LSTM achieves a **win rate of 68%** for MAE/NMAE (and consequently 32% for XGBoost) and **72% for RMSE and SMAPE**, which further supports the conclusion that the LSTM provides a **consistent accuracy improvement** over XGBoost.\n",
    "\n",
    "* **Computational cost.**\n",
    "  There is a **substantial difference in computational cost**: less than one second per fit for the classical ML models compared with roughly one minute per fit for the LSTM and SARIMAX models. This gives XGBoost a considerable advantage over SARIMAX. The improvement in accuracy provided by the LSTM therefore comes at the expense of **significantly higher computation time**.\n",
    "\n",
    "  However, this does not make the LSTM **operationally disadvantageous**. The practical value of the trade-off between accuracy and computation depends heavily on the specific application scenario:\n",
    "\n",
    "  * First, depending on how the forecasts are used in practice, the required level of accuracy may vary, and even a modest but consistent improvement can be valuable.\n",
    "  * Second, model fitting typically occurs **once per week per series**, which was also the setup used in our experiments. Therefore, although the relative increase in computational time is large, the **absolute cost remains manageable** given the infrequency of refitting, unless forecasts need to be produced continuously for a large number of series.\n",
    "\n",
    "**Overall**, while the LSTM entails a significantly higher computational cost, its **superior consistency across validation windows** suggests that it remains a competitive choice when forecast accuracy is a key requirement."
   ]
  },
  {
   "cell_type": "markdown",
   "id": "2baf7d24",
   "metadata": {},
   "source": [
    "##### Visualization of Per-Window Errors"
   ]
  },
  {
   "cell_type": "code",
   "execution_count": null,
   "id": "a2db861a",
   "metadata": {},
   "outputs": [],
   "source": [
    "fig = plotly_cv_metric_by_cutoff(\n",
    "    combined_results=all_results,\n",
    "    metric='mae',  # Change to 'rmse' or 'me' for other metrics\n",
    "    models=['SARIMAX', 'LSTM', 'XGBoost'],\n",
    "    width=2000,\n",
    ")\n",
    "display_scrollable(fig)  "
   ]
  },
  {
   "cell_type": "code",
   "execution_count": null,
   "id": "9912aef4",
   "metadata": {},
   "outputs": [],
   "source": [
    "fig = plotly_cv_metric_by_cutoff(\n",
    "    combined_results=all_loss_diffs,\n",
    "    metric='mae',  # Change to 'rmse' or 'me' for other metrics\n",
    "    models=['LD-XGBoost', 'LD-SARIMAX'],\n",
    ")\n",
    "display_scrollable(fig) "
   ]
  },
  {
   "cell_type": "markdown",
   "id": "15bdbe8d",
   "metadata": {},
   "source": [
    "The periods during which the LSTM model shows the greatest relative advantage over **SARIMAX** are as follows:\n",
    "\n",
    "* **15–18 October:** the initial days when heating demand begins to rise;\n",
    "* **3–13 November:** the phase exhibiting the steepest increase in heat demand, as shown in the daily mean demand plot above.\n",
    "\n",
    "For **XGBoost**, the loss differences are more uniform, although there are still a few days aroung Novermber 3 for which LSTM consistently ouperforms it. \n",
    "\n",
    "These intervals coincide with **transitional phases** between the warm and cold seasons, suggesting that the main difficulty for the SARIMAX lies in capturing regime shifts and nonstationary dynamics associated with rapid, temperature-driven changes in heating behaviour.\n",
    "\n",
    "For **SARIMAX**, this limitation is conceptually expected. The model explicitly partitions the year into two regimes—warm and cold—based on a rolling average of temperature, with the cold period variance stabilized via a targeted Box–Cox transformation. However, this coarse regime specification tends to produce abrupt behavioural changes between the two states. As a result, when the actual demand transition is gradual or delayed relative to temperature (for example, due to social or operational factors), the model’s response can become temporally misaligned with the true dynamics of heating demand.\n",
    "\n",
    "In addition, all SARIMAX parameters were estimated via **maximum likelihood** over the entire training horizon. This means that the coefficients of cold-period exogenous variables (the weekly Fourier terms and the temperature-derived regressors defined specifically for that regime) are primarily optimized for the **dominant peak regime** (the winter season) rather than for the shorter transitional intervals. \n",
    "\n",
    "This design choice was intentional: the goal was to prioritise accuracy during the high-demand, operationally critical winter period. Approaches that aim to improve performance during the transitions often do so at the expense of accuracy in this core regime. Hence, the observed weakness in transition periods reflects not only the structure of the model but also a deliberate **bias–variance trade-off** favouring the stability and reliability of winter forecasts.\n",
    "\n",
    "Nonetheless, this also highlights an intrinsic limitation of SARIMAX (and, more generally, of classical statistical models) in handling **heteroscedastic** and **strongly nonstationary** time series. The use of exogenous temperature variables and a Box–Cox transformation mitigates this issue to some extent, but cannot fully capture the nonlinear, evolving nature of the underlying process.\n",
    "\n",
    "By contrast, machine learning models such as XGBoost and LSTM can inherently model **nonlinear temporal dependencies** and **continuous regime evolution** without the need for explicit segmentation or variance stabilization. Their internal state representations allow them to adapt flexibly to gradual structural shifts in the data-generating process, such as the onset or offset of the heating season.\n",
    "This capacity to learn smooth and context-dependent transitions explains their superior performance during these critical changeover periods and underscores their strength in modeling **nonstationary, seasonally evolving demand patterns**."
   ]
  },
  {
   "cell_type": "code",
   "execution_count": null,
   "id": "d1aed8ef",
   "metadata": {},
   "outputs": [],
   "source": [
    "_ = plot_acf_diagnostics(\n",
    "    df=autumn_F1_day_df,\n",
    "    cols_to_plot=['SARIMAX', 'XGBoost', 'LSTM'],\n",
    "    acf_max_lag=200,\n",
    ")"
   ]
  },
  {
   "cell_type": "markdown",
   "id": "1f830b04",
   "metadata": {},
   "source": [
    "##### Visualization of Forecasts"
   ]
  },
  {
   "cell_type": "code",
   "execution_count": null,
   "id": "b6292ca4",
   "metadata": {},
   "outputs": [],
   "source": [
    "fig = plotly_cutoffs_with_exog(\n",
    "    target_df=heat_df,\n",
    "    cv_df=autumn_F1_day_df,\n",
    "    start_offset=24*7,\n",
    "    end_offset=24*3,\n",
    "    aux_df=aux_df,\n",
    "    exog_vars=['temperature'],\n",
    "    models=['MSTL', 'Naive24h'],\n",
    "    highlight_dayofweek=True,\n",
    "    #order_of_models=['SARIMAX', 'MSTL'],\n",
    "    alpha=1.0,\n",
    "    base_height_per_panel=250,\n",
    ")\n",
    "display_scrollable(fig)"
   ]
  },
  {
   "cell_type": "markdown",
   "id": "a15a7171",
   "metadata": {},
   "source": [
    "#### Winter"
   ]
  },
  {
   "cell_type": "code",
   "execution_count": null,
   "id": "54709b87",
   "metadata": {},
   "outputs": [],
   "source": [
    "winter_F1_day_df = cv_df[\n",
    "    (cv_df['cutoff'] >= pd.Timestamp('2024-12-21')) &\n",
    "    (cv_df['cutoff'] <= pd.Timestamp('2025-03-21'))\n",
    "].copy()\n",
    "winter_target = heat_df[\n",
    "    (heat_df['unique_id'] == 'F1') &\n",
    "    (heat_df['ds'] >= pd.Timestamp('2024-12-21')) &\n",
    "    (heat_df['ds'] <= pd.Timestamp('2025-03-21'))\n",
    "].copy()\n",
    "display_info_cv(winter_F1_day_df)"
   ]
  },
  {
   "cell_type": "markdown",
   "id": "72636a81",
   "metadata": {},
   "source": [
    "##### Per-Window Error Statistics"
   ]
  },
  {
   "cell_type": "code",
   "execution_count": null,
   "id": "f1458907",
   "metadata": {},
   "outputs": [],
   "source": [
    "all_results = evaluate_cv_forecasts(\n",
    "    cv_df=winter_F1_day_df,#[['LSTM', 'XGBoost', 'unique_id', 'ds', 'cutoff', 'y']],\n",
    "    target_df=heat_df, \n",
    "    period_for_nmae=(pd.Timestamp('2024-12-21'), pd.Timestamp('2025-03-20'))\n",
    ")\n",
    "summary = cv_evaluation_summary(all_results)\n",
    "ws = display_cv_summary(summary, sort_metric='mae', times_df=times_df) "
   ]
  },
  {
   "cell_type": "code",
   "execution_count": null,
   "id": "27152577",
   "metadata": {},
   "outputs": [],
   "source": [
    "all_loss_diffs = compute_loss_diffs(\n",
    "    all_results,\n",
    "    baseline_model='Naive24h'\n",
    ")\n",
    "ld_summary = cv_evaluation_summary(all_loss_diffs)\n",
    "_ = display_cv_summary(ld_summary, are_loss_diffs=True)"
   ]
  },
  {
   "cell_type": "code",
   "execution_count": null,
   "id": "948a0fe2",
   "metadata": {},
   "outputs": [],
   "source": [
    "fig = plotly_cv_metric_by_cutoff(\n",
    "    combined_results=all_results,\n",
    "    metric='smape',  # Change to 'rmse' or 'me' for other metrics\n",
    "    models=['SARIMAX', 'LSTM', 'XGBoost'],\n",
    "    aux_df=None,\n",
    "    as_lineplot=True,\n",
    "    height_per_row=400,\n",
    "    grayscale_safe=True,\n",
    "    width=800\n",
    ")\n",
    "display_scrollable(fig)  "
   ]
  },
  {
   "cell_type": "code",
   "execution_count": null,
   "id": "353ba609",
   "metadata": {},
   "outputs": [],
   "source": [
    "fig = plotly_cv_metric_by_cutoff(\n",
    "    combined_results=all_loss_diffs,\n",
    "    metric='mae',  # Change to 'rmse' or 'me' for other metrics\n",
    "    models=['LD-MSTL', 'LD-SARIMAX'],\n",
    "    as_lineplot=False,\n",
    "    grayscale_safe=False,\n",
    "    width=1100\n",
    ")\n",
    "display_scrollable(fig) "
   ]
  },
  {
   "cell_type": "code",
   "execution_count": null,
   "id": "f7767599",
   "metadata": {},
   "outputs": [],
   "source": [
    "from dieboldmariano import dm_test\n",
    "\n",
    "L = all_results[all_results['metric'] == \"mae\"]['LSTM'].values\n",
    "X = all_results[all_results['metric'] == \"mae\"]['XGBoost'].values\n",
    "T = np.zeros(len(L))\n",
    "\n",
    "dm_test(T, L, X, h=7)"
   ]
  },
  {
   "cell_type": "code",
   "execution_count": null,
   "id": "0b8dbaf7",
   "metadata": {},
   "outputs": [],
   "source": [
    "from scipy import stats\n",
    "\n",
    "t_stat, p_val = stats.ttest_rel(L, X)  # equivalent\n",
    "print(t_stat, p_val)"
   ]
  },
  {
   "cell_type": "markdown",
   "id": "e0ce3f47",
   "metadata": {},
   "source": [
    "##### Analysis of per-hour-ahead errors"
   ]
  },
  {
   "cell_type": "markdown",
   "id": "20128f83",
   "metadata": {},
   "source": [
    "In the winter period, when forecasting accuracy is most critical due to peak heat demand, the series exhibits lower heteroskedasticity because the regime transitions typical of autumn and spring do not occur. Therefore, we include an additional analysis of forecast errors by hour ahead horizon, which, given that forecasts always start at midnight, can also be interpreted as an analysis by hour of day."
   ]
  },
  {
   "cell_type": "code",
   "execution_count": null,
   "id": "d5c56c7c",
   "metadata": {},
   "outputs": [],
   "source": [
    "by_horizon_dict = by_horizon_preds(winter_F1_day_df)\n",
    "per_h_summ = compute_error_stats_by_horizon(\n",
    "    by_horizon_dict=by_horizon_dict,\n",
    "    target_df=heat_df,\n",
    "    nmae_period=(pd.Timestamp('2024-09-20'), pd.Timestamp('2024-12-21')),\n",
    "    log_every=5,\n",
    "    show_per_cutoff=True,\n",
    "    evaluate_fn=evaluate_cv_forecasts,\n",
    "    summarize_fn=cv_evaluation_summary,\n",
    "    by_cutoff_plot_fn=partial(\n",
    "        plotly_cv_metric_by_cutoff, \n",
    "        models=['LSTM', 'XGBoost', 'SARIMAX', 'SVMR'],\n",
    "        width=2000\n",
    "    ),\n",
    ")\n"
   ]
  },
  {
   "cell_type": "code",
   "execution_count": null,
   "id": "a3e6fadd",
   "metadata": {},
   "outputs": [],
   "source": [
    "# Target grouped by month-dayhour\n",
    "plotly_daily_seasonality(\n",
    "    winter_target,\n",
    "    show_legend=True,\n",
    "    colors=px.colors.qualitative.Dark2\n",
    ")\n",
    "\n",
    "# Errors gouped by horizon\n",
    "agg = 'mean'\n",
    "plotly_models_vs_horizon(per_h_summ=per_h_summ, \n",
    "                         models=['LSTM', 'XGBoost', 'SARIMAX', 'SVMR', 'MSTL', 'Naive24h'],\n",
    "                         metric='mae', \n",
    "                         agg=agg)\n",
    "plotly_models_vs_horizon(per_h_summ=per_h_summ, \n",
    "                         models=['LSTM', 'XGBoost', 'SARIMAX', 'SVMR', 'MSTL', 'Naive24h'],\n",
    "                         metric='smape', agg=agg)"
   ]
  },
  {
   "cell_type": "markdown",
   "id": "d049f4ab",
   "metadata": {},
   "source": [
    "##### Analysis of Residuals"
   ]
  },
  {
   "cell_type": "code",
   "execution_count": null,
   "id": "40539002",
   "metadata": {},
   "outputs": [],
   "source": [
    "_ = plot_residual_diagnostics(\n",
    "    winter_F1_day_df,\n",
    "    models=['SARIMAX','XGBoost','LSTM'],\n",
    "    acf_max_lag=168,  # e.g., up to weekly lags for hourly data\n",
    ")"
   ]
  },
  {
   "cell_type": "code",
   "execution_count": null,
   "id": "aab5fb8a",
   "metadata": {},
   "outputs": [],
   "source": [
    "fig = plotly_cutoffs_with_exog(\n",
    "    target_df=heat_df,\n",
    "    cv_df=winter_F1_day_df,\n",
    "    start_offset=24*7,\n",
    "    end_offset=24*3,\n",
    "    models=['XGBoost', 'LSTM', 'SARIMAX'],\n",
    "    id='F1',\n",
    "    highlight_dayofweek=True,\n",
    "    alpha=1.0,\n",
    "    base_height_per_panel=250,\n",
    "    exog_vars=['temperature'],\n",
    "    aux_df=aux_df,\n",
    ")\n",
    "display_scrollable(fig)"
   ]
  },
  {
   "cell_type": "markdown",
   "id": "e5371d11",
   "metadata": {},
   "source": [
    "#### Spring"
   ]
  },
  {
   "cell_type": "code",
   "execution_count": null,
   "id": "a2db3436",
   "metadata": {},
   "outputs": [],
   "source": [
    "spring_F1_day_df = cv_df[\n",
    "    (cv_df['cutoff'] >= pd.Timestamp('2025-03-21')) &\n",
    "    (cv_df['cutoff'] <= pd.Timestamp('2025-06-21'))\n",
    "].copy()\n",
    "display_info_cv(spring_F1_day_df)"
   ]
  },
  {
   "cell_type": "code",
   "execution_count": null,
   "id": "d0611506",
   "metadata": {},
   "outputs": [],
   "source": [
    "all_results = evaluate_cv_forecasts(\n",
    "    cv_df=spring_F1_day_df,\n",
    "    target_df=heat_df, \n",
    "    period_for_nmae=(pd.Timestamp('2025-03-21'), pd.Timestamp('2025-06-21'))\n",
    ")\n",
    "summary = cv_evaluation_summary(all_results)\n",
    "_ = display_cv_summary(summary, sort_metric='mae', times_df=times_df) "
   ]
  },
  {
   "cell_type": "code",
   "execution_count": null,
   "id": "09ef468b",
   "metadata": {},
   "outputs": [],
   "source": [
    "all_loss_diffs = compute_loss_diffs(\n",
    "    all_results,\n",
    "    baseline_model='XGBoost'\n",
    ")\n",
    "ld_summary = cv_evaluation_summary(all_loss_diffs)\n",
    "_ = display_cv_summary(ld_summary, are_loss_diffs=True)"
   ]
  },
  {
   "cell_type": "code",
   "execution_count": null,
   "id": "0accdbf4",
   "metadata": {},
   "outputs": [],
   "source": [
    "fig = plotly_cv_metric_by_cutoff(\n",
    "    combined_results=all_results,\n",
    "    metric='mae',  # Change to 'rmse' or 'me' for other metrics\n",
    "    models=['SARIMAX', 'LSTM', 'XGBoost'],\n",
    "\n",
    ")\n",
    "display_scrollable(fig)  "
   ]
  },
  {
   "cell_type": "code",
   "execution_count": null,
   "id": "d90b9a7f",
   "metadata": {},
   "outputs": [],
   "source": [
    "fig = plotly_cv_metric_by_cutoff(\n",
    "    combined_results=all_loss_diffs,\n",
    "    metric='mae',  # Change to 'rmse' or 'me' for other metrics\n",
    "    models=['LD-LSTM', 'LD-SARIMAX'],\n",
    ")\n",
    "display_scrollable(fig) "
   ]
  },
  {
   "cell_type": "code",
   "execution_count": null,
   "id": "c81fe27e",
   "metadata": {},
   "outputs": [],
   "source": [
    "fig = plotly_cutoffs_with_exog(\n",
    "    target_df=heat_df,\n",
    "    cv_df=spring_F1_day_df,\n",
    "    start_offset=24*7,\n",
    "    end_offset=24*3,\n",
    "    aux_df=aux_df,\n",
    "    exog_vars=['temperature'],\n",
    "    models=['XGBoost', 'LSTM', 'SARIMAX'],\n",
    "    id='F1',\n",
    "    highlight_dayofweek=False,\n",
    "    order_of_models=['SARIMAX', 'LSTM', 'XGBoost'],\n",
    "    alpha=1.0,\n",
    "    base_height_per_panel=250,\n",
    ")\n",
    "display_scrollable(fig)"
   ]
  },
  {
   "cell_type": "markdown",
   "id": "6e2ed912",
   "metadata": {},
   "source": [
    "### Weekly horizon"
   ]
  },
  {
   "cell_type": "code",
   "execution_count": null,
   "id": "42352786",
   "metadata": {},
   "outputs": [],
   "source": [
    "cv_df = merged_results[('F1', 'week')]\n",
    "times_df = times[('F1', 'week')]\n",
    "display_info_cv(cv_df)"
   ]
  },
  {
   "cell_type": "markdown",
   "id": "4cde53b8",
   "metadata": {},
   "source": [
    "#### Autumn"
   ]
  },
  {
   "cell_type": "code",
   "execution_count": null,
   "id": "ccd63a78",
   "metadata": {},
   "outputs": [],
   "source": [
    "autumn_F1_week_df = cv_df[\n",
    "    (cv_df['cutoff'] >= pd.Timestamp('2024-09-20')) &\n",
    "    (cv_df['cutoff'] <= pd.Timestamp('2024-12-21'))\n",
    "].copy()\n",
    "display_info_cv(autumn_F1_week_df)"
   ]
  },
  {
   "cell_type": "code",
   "execution_count": null,
   "id": "5696a864",
   "metadata": {},
   "outputs": [],
   "source": [
    "all_results = evaluate_cv_forecasts(\n",
    "    cv_df=autumn_F1_week_df,\n",
    "    target_df=heat_df, \n",
    "    period_for_nmae=(pd.Timestamp('2024-09-20'), pd.Timestamp('2024-12-21'))\n",
    ")\n",
    "summary = cv_evaluation_summary(all_results)\n",
    "_ = display_cv_summary(summary, sort_metric='mae', times_df=times_df) "
   ]
  },
  {
   "cell_type": "code",
   "execution_count": null,
   "id": "2d6850b9",
   "metadata": {},
   "outputs": [],
   "source": [
    "all_loss_diffs = compute_loss_diffs(\n",
    "    all_results,\n",
    "    baseline_model='XGBoost'\n",
    ")\n",
    "ld_summary = cv_evaluation_summary(all_loss_diffs)\n",
    "_ = display_cv_summary(ld_summary, are_loss_diffs=True)"
   ]
  },
  {
   "cell_type": "code",
   "execution_count": null,
   "id": "d4ba94ce",
   "metadata": {},
   "outputs": [],
   "source": [
    "fig = plotly_cv_metric_by_cutoff(\n",
    "    combined_results=all_results,\n",
    "    metric='mae',  # Change to 'rmse' or 'me' for other metrics\n",
    "    models=['SARIMAX', 'LSTM', 'XGBoost'],\n",
    "    width=1000,\n",
    ")\n",
    "display_scrollable(fig)    "
   ]
  },
  {
   "cell_type": "code",
   "execution_count": null,
   "id": "44f7e7ac",
   "metadata": {},
   "outputs": [],
   "source": [
    "fig = plotly_cv_metric_by_cutoff(\n",
    "    combined_results=all_loss_diffs,\n",
    "    metric='mae',  # Change to 'rmse' or 'me' for other metrics\n",
    "    models=['LD-LSTM', 'LD-SARIMAX'],\n",
    "    width=1000,\n",
    ")\n",
    "display_scrollable(fig) "
   ]
  },
  {
   "cell_type": "code",
   "execution_count": null,
   "id": "10ce3fa1",
   "metadata": {},
   "outputs": [],
   "source": [
    "cutoffs_all = autumn_F1_week_df['cutoff'].sort_values().unique()\n",
    "\n",
    "fig = plotly_cutoffs_with_exog(\n",
    "    target_df=heat_df,\n",
    "    cv_df=autumn_F1_week_df[autumn_F1_week_df['cutoff'].isin(cutoffs_all)],\n",
    "    start_offset=24*7,\n",
    "    end_offset=24*3,\n",
    "    aux_df=aux_df,\n",
    "    exog_vars=['temperature'],\n",
    "    models=['SARIMAX', 'LSTM', 'XGBoost'],\n",
    "    highlight_dayofweek=False,\n",
    "    alpha=1.0,\n",
    "    base_height_per_panel=250,\n",
    ")\n",
    "display_scrollable(fig)"
   ]
  },
  {
   "cell_type": "markdown",
   "id": "42cec3e1",
   "metadata": {},
   "source": [
    "#### Winter"
   ]
  },
  {
   "cell_type": "code",
   "execution_count": null,
   "id": "e7b88f4d",
   "metadata": {},
   "outputs": [],
   "source": [
    "winter_F1_week_df = cv_df[\n",
    "    (cv_df['cutoff'] >= pd.Timestamp('2024-12-21')) &\n",
    "    (cv_df['cutoff'] <= pd.Timestamp('2025-03-21'))\n",
    "].copy()\n",
    "display_info_cv(winter_F1_week_df)"
   ]
  },
  {
   "cell_type": "code",
   "execution_count": null,
   "id": "6776ed20",
   "metadata": {},
   "outputs": [],
   "source": [
    "all_results = evaluate_cv_forecasts(\n",
    "    cv_df=winter_F1_week_df,\n",
    "    target_df=heat_df, \n",
    "    period_for_nmae=(pd.Timestamp('2024-12-21'), pd.Timestamp('2025-03-20'))\n",
    ")\n",
    "summary = cv_evaluation_summary(all_results)\n",
    "_ = display_cv_summary(summary, sort_metric='mae', times_df=times_df) "
   ]
  },
  {
   "cell_type": "code",
   "execution_count": null,
   "id": "d2045628",
   "metadata": {},
   "outputs": [],
   "source": [
    "all_loss_diffs = compute_loss_diffs(\n",
    "    all_results,\n",
    "    baseline_model='XGBoost'\n",
    ")\n",
    "ld_summary = cv_evaluation_summary(all_loss_diffs)\n",
    "_ = display_cv_summary(ld_summary, are_loss_diffs=True)"
   ]
  },
  {
   "cell_type": "code",
   "execution_count": null,
   "id": "670d05cd",
   "metadata": {},
   "outputs": [],
   "source": [
    "fig = plotly_cv_metric_by_cutoff(\n",
    "    combined_results=all_results,\n",
    "    metric='mae',  # Change to 'rmse' or 'me' for other metrics\n",
    "    models=['SARIMAX', 'LSTM', 'XGBoost'],\n",
    "    width=1000,\n",
    ")\n",
    "display_scrollable(fig)  "
   ]
  },
  {
   "cell_type": "code",
   "execution_count": null,
   "id": "de8b8337",
   "metadata": {},
   "outputs": [],
   "source": [
    "fig = plotly_cv_metric_by_cutoff(\n",
    "    combined_results=all_loss_diffs,\n",
    "    metric='mae',  # Change to 'rmse' or 'me' for other metrics\n",
    "    models=['LD-LSTM', 'LD-SARIMAX'],\n",
    "    width=1000,\n",
    ")\n",
    "display_scrollable(fig) "
   ]
  },
  {
   "cell_type": "code",
   "execution_count": null,
   "id": "8d32e700",
   "metadata": {},
   "outputs": [],
   "source": [
    "fig = plotly_cutoffs_with_exog(\n",
    "    target_df=heat_df,\n",
    "    cv_df=winter_F1_week_df,\n",
    "    start_offset=24*7,\n",
    "    end_offset=24*3,\n",
    "    aux_df=aux_df,\n",
    "    exog_vars=['temperature'],\n",
    "    models=['SARIMAX', 'LSTM', 'XGBoost'],\n",
    "    highlight_dayofweek=False,\n",
    "    alpha=1.0,\n",
    "    base_height_per_panel=250,\n",
    ")\n",
    "display_scrollable(fig)"
   ]
  },
  {
   "cell_type": "markdown",
   "id": "aac0d1ff",
   "metadata": {},
   "source": [
    "#### Spring"
   ]
  },
  {
   "cell_type": "code",
   "execution_count": null,
   "id": "1de07aa4",
   "metadata": {},
   "outputs": [],
   "source": [
    "spring_F1_week_df = cv_df[\n",
    "    (cv_df['cutoff'] >= pd.Timestamp('2025-03-21')) &\n",
    "    (cv_df['cutoff'] <= pd.Timestamp('2025-06-21'))\n",
    "].copy()\n",
    "display_info_cv(spring_F1_week_df)"
   ]
  },
  {
   "cell_type": "code",
   "execution_count": null,
   "id": "898cd8d2",
   "metadata": {},
   "outputs": [],
   "source": [
    "all_results = evaluate_cv_forecasts(\n",
    "    cv_df=spring_F1_week_df,\n",
    "    target_df=heat_df, \n",
    "    period_for_nmae=(pd.Timestamp('2025-03-21'), pd.Timestamp('2025-05-12'))\n",
    ")\n",
    "summary = cv_evaluation_summary(all_results)\n",
    "_ = display_cv_summary(summary, sort_metric='mae', times_df=times_df) "
   ]
  },
  {
   "cell_type": "code",
   "execution_count": null,
   "id": "f5ba48b9",
   "metadata": {},
   "outputs": [],
   "source": [
    "all_loss_diffs = compute_loss_diffs(\n",
    "    all_results,\n",
    "    baseline_model='XGBoost'\n",
    ")\n",
    "ld_summary = cv_evaluation_summary(all_loss_diffs)\n",
    "_ = display_cv_summary(ld_summary, are_loss_diffs=True)"
   ]
  },
  {
   "cell_type": "code",
   "execution_count": null,
   "id": "f60c308d",
   "metadata": {},
   "outputs": [],
   "source": [
    "fig = plotly_cv_metric_by_cutoff(\n",
    "    combined_results=all_results,\n",
    "    metric='mae',  # Change to 'rmse' or 'me' for other metrics\n",
    "    models=['SARIMAX', 'LSTM', 'XGBoost'],\n",
    "    width=1000,\n",
    ")\n",
    "display_scrollable(fig)  "
   ]
  },
  {
   "cell_type": "code",
   "execution_count": null,
   "id": "3d524101",
   "metadata": {},
   "outputs": [],
   "source": [
    "fig = plotly_cv_metric_by_cutoff(\n",
    "    combined_results=all_loss_diffs,\n",
    "    metric='mae',  # Change to 'rmse' or 'me' for other metrics\n",
    "    models=['LD-LSTM', 'LD-SARIMAX'],\n",
    "    width=1000,\n",
    ")\n",
    "display_scrollable(fig) "
   ]
  },
  {
   "cell_type": "code",
   "execution_count": null,
   "id": "521f750b",
   "metadata": {},
   "outputs": [],
   "source": [
    "fig = plotly_cutoffs_with_exog(\n",
    "    target_df=heat_df,\n",
    "    cv_df=spring_F1_week_df,\n",
    "    start_offset=24*7,\n",
    "    end_offset=24*3,\n",
    "    aux_df=aux_df,\n",
    "    exog_vars=['temperature'],\n",
    "    models=['SARIMAX', 'LSTM', 'XGBoost'],\n",
    "    highlight_dayofweek=False,\n",
    "    alpha=1.0,\n",
    "    base_height_per_panel=250,\n",
    ")\n",
    "display_scrollable(fig)"
   ]
  },
  {
   "cell_type": "markdown",
   "id": "c6811cb5",
   "metadata": {},
   "source": [
    "## Series F2"
   ]
  },
  {
   "cell_type": "code",
   "execution_count": null,
   "id": "dc065f25",
   "metadata": {},
   "outputs": [],
   "source": [
    "plot_target_series(heat_df, 'F2')"
   ]
  },
  {
   "cell_type": "code",
   "execution_count": null,
   "id": "b0dda8e7",
   "metadata": {},
   "outputs": [],
   "source": [
    "plot_target_series_daily_agg(heat_df, 'F2')"
   ]
  },
  {
   "cell_type": "markdown",
   "id": "8cd2c769",
   "metadata": {},
   "source": [
    "### Daily horizon"
   ]
  },
  {
   "cell_type": "code",
   "execution_count": null,
   "id": "bd767e5f",
   "metadata": {},
   "outputs": [],
   "source": [
    "cv_df = merged_results[('F2', 'day')]\n",
    "times_df = times[('F2', 'day')]\n",
    "display_info_cv(cv_df)"
   ]
  },
  {
   "cell_type": "markdown",
   "id": "bce11f1b",
   "metadata": {},
   "source": [
    "#### Autumn"
   ]
  },
  {
   "cell_type": "code",
   "execution_count": null,
   "id": "ebeefbfc",
   "metadata": {},
   "outputs": [],
   "source": [
    "autumn_F2_day_df = cv_df[\n",
    "    (cv_df['cutoff'] >= pd.Timestamp('2024-09-20')) &\n",
    "    (cv_df['cutoff'] <= pd.Timestamp('2024-12-21'))\n",
    "].copy()\n",
    "display_info_cv(autumn_F2_day_df)"
   ]
  },
  {
   "cell_type": "code",
   "execution_count": null,
   "id": "95d81f78",
   "metadata": {},
   "outputs": [],
   "source": [
    "all_results = evaluate_cv_forecasts(\n",
    "    cv_df=autumn_F2_day_df,\n",
    "    target_df=heat_df, \n",
    "    period_for_nmae=(pd.Timestamp('2024-09-20'), pd.Timestamp('2024-12-21'))\n",
    ")\n",
    "summary = cv_evaluation_summary(all_results)\n",
    "_ = display_cv_summary(summary, sort_metric='mae', times_df=times_df) "
   ]
  },
  {
   "cell_type": "code",
   "execution_count": null,
   "id": "74aec71f",
   "metadata": {},
   "outputs": [],
   "source": [
    "all_loss_diffs = compute_loss_diffs(\n",
    "    all_results,\n",
    "    baseline_model='XGBoost'\n",
    ")\n",
    "ld_summary = cv_evaluation_summary(all_loss_diffs)\n",
    "_ = display_cv_summary(ld_summary, are_loss_diffs=True)"
   ]
  },
  {
   "cell_type": "code",
   "execution_count": null,
   "id": "4a9adfa2",
   "metadata": {},
   "outputs": [],
   "source": [
    "fig = plotly_cv_metric_by_cutoff(\n",
    "    combined_results=all_results,\n",
    "    metric='smape',  # Change to 'rmse' or 'me' for other metrics\n",
    "    models=['SARIMAX', 'LSTM', 'XGBoost'],\n",
    "    width=2000,\n",
    ")\n",
    "display_scrollable(fig)   "
   ]
  },
  {
   "cell_type": "code",
   "execution_count": null,
   "id": "41ca7c04",
   "metadata": {},
   "outputs": [],
   "source": [
    "fig = plotly_cv_metric_by_cutoff(\n",
    "    combined_results=all_loss_diffs,\n",
    "    metric='mae',  # Change to 'rmse' or 'me' for other metrics\n",
    "    models=['LD-LSTM', 'LD-SARIMAX'],\n",
    ")\n",
    "display_scrollable(fig) "
   ]
  },
  {
   "cell_type": "code",
   "execution_count": null,
   "id": "b324701b",
   "metadata": {},
   "outputs": [],
   "source": [
    "fig = plotly_cutoffs_with_exog(\n",
    "    target_df=heat_df,\n",
    "    cv_df=autumn_F2_day_df,\n",
    "    start_offset=24*7,\n",
    "    end_offset=24*3,\n",
    "    aux_df=aux_df,\n",
    "    exog_vars=['temperature'],\n",
    "    models=['XGBoost', 'LSTM', 'SARIMAX'],\n",
    "    highlight_dayofweek=False,\n",
    "    order_of_models=['XGBoost', 'LSTM', 'SARIMAX'],\n",
    "    alpha=1.0,\n",
    "    base_height_per_panel=250,\n",
    ")\n",
    "display_scrollable(fig)"
   ]
  },
  {
   "cell_type": "markdown",
   "id": "cb4f7f1a",
   "metadata": {},
   "source": [
    "#### Winter"
   ]
  },
  {
   "cell_type": "code",
   "execution_count": null,
   "id": "41223c94",
   "metadata": {},
   "outputs": [],
   "source": [
    "winter_F2_day_df = cv_df[\n",
    "    (cv_df['cutoff'] >= pd.Timestamp('2024-12-21')) &\n",
    "    (cv_df['cutoff'] <= pd.Timestamp('2025-03-21'))\n",
    "].copy()\n",
    "winter_target = heat_df[\n",
    "    (heat_df['unique_id'] == 'F2') &\n",
    "    (heat_df['ds'] >= pd.Timestamp('2024-12-21')) &\n",
    "    (heat_df['ds'] <= pd.Timestamp('2025-03-21'))\n",
    "].copy()\n",
    "display_info_cv(winter_F2_day_df)"
   ]
  },
  {
   "cell_type": "code",
   "execution_count": null,
   "id": "cc5a07a4",
   "metadata": {},
   "outputs": [],
   "source": [
    "corrupted_cutoffs = [\n",
    "    pd.Timestamp('2025-01-20T23:00:00'),\n",
    "    pd.Timestamp('2025-01-21T23:00:00'),\n",
    "    pd.Timestamp('2025-01-22T23:00:00')\n",
    "]\n",
    "all_results = evaluate_cv_forecasts(\n",
    "    cv_df=winter_F2_day_df,\n",
    "    target_df=heat_df, \n",
    "    period_for_nmae=(pd.Timestamp('2024-12-21'), pd.Timestamp('2025-03-20')),\n",
    ")\n",
    "summary = cv_evaluation_summary(\n",
    "    all_results,\n",
    "    ignore_cutoffs=corrupted_cutoffs\n",
    ")\n",
    "\n",
    "_ = display_cv_summary(summary, sort_metric='mae', times_df=times_df) "
   ]
  },
  {
   "cell_type": "code",
   "execution_count": null,
   "id": "b0e1e59a",
   "metadata": {},
   "outputs": [],
   "source": [
    "all_loss_diffs = compute_loss_diffs(\n",
    "    all_results,\n",
    "    baseline_model='XGBoost',\n",
    ")\n",
    "ld_summary = cv_evaluation_summary(\n",
    "    all_loss_diffs,\n",
    "    ignore_cutoffs=corrupted_cutoffs\n",
    ")\n",
    "_ = display_cv_summary(ld_summary, are_loss_diffs=True)"
   ]
  },
  {
   "cell_type": "code",
   "execution_count": null,
   "id": "1fcdb0f7",
   "metadata": {},
   "outputs": [],
   "source": [
    "fig = plotly_cv_metric_by_cutoff(\n",
    "    combined_results=all_results,\n",
    "    metric='mae',  # Change to 'rmse' or 'me' for other metrics\n",
    "    models=['SARIMAX', 'LSTM', 'XGBoost'],\n",
    "    width=2000,\n",
    ")\n",
    "display_scrollable(fig)  "
   ]
  },
  {
   "cell_type": "code",
   "execution_count": null,
   "id": "fab6b434",
   "metadata": {},
   "outputs": [],
   "source": [
    "fig = plotly_cv_metric_by_cutoff(\n",
    "    combined_results=all_loss_diffs,\n",
    "    metric='mae',  # Change to 'rmse' or 'me' for other metrics\n",
    "    models=['LD-LSTM', 'LD-SARIMAX'],\n",
    ")\n",
    "display_scrollable(fig) "
   ]
  },
  {
   "cell_type": "markdown",
   "id": "2232c632",
   "metadata": {},
   "source": [
    "##### Analysis of per-hour-ahead errors"
   ]
  },
  {
   "cell_type": "markdown",
   "id": "c6a98872",
   "metadata": {},
   "source": [
    "In the winter period, when forecasting accuracy is most critical due to peak heat demand, the series exhibits lower heteroskedasticity because the regime transitions typical of autumn and spring do not occur. Therefore, we include an additional analysis of forecast errors by hour ahead horizon, which, given that forecasts always start at midnight, can also be interpreted as an analysis by hour of day."
   ]
  },
  {
   "cell_type": "code",
   "execution_count": null,
   "id": "49508c97",
   "metadata": {},
   "outputs": [],
   "source": [
    "by_horizon_dict = by_horizon_preds(winter_F2_day_df)\n",
    "per_h_summ = compute_error_stats_by_horizon(\n",
    "    by_horizon_dict=by_horizon_dict,\n",
    "    target_df=heat_df,\n",
    "    nmae_period=(pd.Timestamp('2024-09-20'), pd.Timestamp('2024-12-21')),\n",
    "    step=1,\n",
    "    log_every=5,\n",
    "    show_per_cutoff=True,\n",
    "    evaluate_fn=evaluate_cv_forecasts,\n",
    "    summarize_fn=partial(\n",
    "        cv_evaluation_summary,\n",
    "        ignore_cutoffs=corrupted_cutoffs\n",
    "    ),\n",
    "    by_cutoff_plot_fn=partial(\n",
    "        plotly_cv_metric_by_cutoff, \n",
    "        models=['LSTM', 'XGBoost', 'SARIMAX', 'SVMR'],\n",
    "        width=2000\n",
    "    ),\n",
    ")\n"
   ]
  },
  {
   "cell_type": "code",
   "execution_count": null,
   "id": "bb4d5290",
   "metadata": {},
   "outputs": [],
   "source": [
    "# Target grouped by month-dayhour\n",
    "plotly_daily_seasonality(\n",
    "    winter_target,\n",
    "    show_legend=True\n",
    ")\n",
    "\n",
    "# Errors gouped by horizon\n",
    "agg = 'mean'\n",
    "plotly_models_vs_horizon(per_h_summ=per_h_summ, metric='mae', agg=agg)\n",
    "plotly_models_vs_horizon(per_h_summ=per_h_summ, metric='smape', agg=agg)"
   ]
  },
  {
   "cell_type": "markdown",
   "id": "541fb5ab",
   "metadata": {},
   "source": [
    "##### Analysis of Residuals"
   ]
  },
  {
   "cell_type": "code",
   "execution_count": null,
   "id": "020c117a",
   "metadata": {},
   "outputs": [],
   "source": [
    "data = plot_residual_diagnostics(\n",
    "    winter_F2_day_df[~winter_F2_day_df['cutoff'].isin(corrupted_cutoffs)],\n",
    "    models=['SARIMAX','XGBoost','LSTM'],\n",
    "    acf_max_lag=168,  # e.g., up to weekly lags for hourly data\n",
    ")"
   ]
  },
  {
   "cell_type": "code",
   "execution_count": null,
   "id": "daf408cc",
   "metadata": {},
   "outputs": [],
   "source": [
    "fig = plotly_cutoffs_with_exog(\n",
    "    target_df=heat_df,\n",
    "    cv_df=winter_F2_day_df,\n",
    "    start_offset=24*7,\n",
    "    end_offset=24*3,\n",
    "    aux_df=aux_df,\n",
    "    exog_vars=['temperature'],\n",
    "    models=['XGBoost', 'LSTM', 'SARIMAX'],\n",
    "    highlight_dayofweek=False,\n",
    "    order_of_models=['XGBoost', 'LSTM', 'SARIMAX'],\n",
    "    alpha=1.0,\n",
    "    base_height_per_panel=250,\n",
    ")\n",
    "display_scrollable(fig)"
   ]
  },
  {
   "cell_type": "markdown",
   "id": "61633c67",
   "metadata": {},
   "source": [
    "#### Spring"
   ]
  },
  {
   "cell_type": "code",
   "execution_count": null,
   "id": "ed541cc1",
   "metadata": {},
   "outputs": [],
   "source": [
    "spring_F2_day_df = cv_df[\n",
    "    (cv_df['cutoff'] >= pd.Timestamp('2025-03-21')) &\n",
    "    (cv_df['cutoff'] <= pd.Timestamp('2025-06-21'))\n",
    "].copy()\n",
    "display_info_cv(spring_F2_day_df)"
   ]
  },
  {
   "cell_type": "code",
   "execution_count": null,
   "id": "ca262e1d",
   "metadata": {},
   "outputs": [],
   "source": [
    "all_results = evaluate_cv_forecasts(\n",
    "    cv_df=spring_F2_day_df,\n",
    "    target_df=heat_df, \n",
    "    period_for_nmae=(pd.Timestamp('2025-03-21'), pd.Timestamp('2025-06-21'))\n",
    ")\n",
    "summary = cv_evaluation_summary(all_results)\n",
    "_ = display_cv_summary(summary, sort_metric='mae', times_df=times_df) "
   ]
  },
  {
   "cell_type": "code",
   "execution_count": null,
   "id": "3baf0510",
   "metadata": {},
   "outputs": [],
   "source": [
    "all_loss_diffs = compute_loss_diffs(\n",
    "    all_results,\n",
    "    baseline_model='XGBoost'\n",
    ")\n",
    "ld_summary = cv_evaluation_summary(all_loss_diffs)\n",
    "_ = display_cv_summary(ld_summary, are_loss_diffs=True)"
   ]
  },
  {
   "cell_type": "code",
   "execution_count": null,
   "id": "212da314",
   "metadata": {},
   "outputs": [],
   "source": [
    "fig = plotly_cv_metric_by_cutoff(\n",
    "    combined_results=all_results,\n",
    "    metric='mae',  # Change to 'rmse' or 'me' for other metrics\n",
    "    models=['SARIMAX', 'LSTM', 'XGBoost'],\n",
    "    width=2000,\n",
    ")\n",
    "display_scrollable(fig)    "
   ]
  },
  {
   "cell_type": "code",
   "execution_count": null,
   "id": "e38632ab",
   "metadata": {},
   "outputs": [],
   "source": [
    "fig = plotly_cv_metric_by_cutoff(\n",
    "    combined_results=all_loss_diffs,\n",
    "    metric='mae',  # Change to 'rmse' or 'me' for other metrics\n",
    "    models=['LD-LSTM', 'LD-SARIMAX'],\n",
    ")\n",
    "display_scrollable(fig) "
   ]
  },
  {
   "cell_type": "code",
   "execution_count": null,
   "id": "30f5b9ed",
   "metadata": {},
   "outputs": [],
   "source": [
    "fig = plotly_cutoffs_with_exog(\n",
    "    target_df=heat_df,\n",
    "    cv_df=spring_F2_day_df,\n",
    "    start_offset=24*7,\n",
    "    end_offset=24*3,\n",
    "    aux_df=aux_df,\n",
    "    exog_vars=['temperature'],\n",
    "    models=['XGBoost', 'LSTM', 'SARIMAX'],\n",
    "    highlight_dayofweek=False,\n",
    "    order_of_models=['XGBoost', 'LSTM', 'SARIMAX'],\n",
    "    alpha=1.0,\n",
    "    base_height_per_panel=250,\n",
    ")\n",
    "display_scrollable(fig)"
   ]
  },
  {
   "cell_type": "markdown",
   "id": "670da573",
   "metadata": {},
   "source": [
    "### Weekly horizon"
   ]
  },
  {
   "cell_type": "code",
   "execution_count": null,
   "id": "5425933b",
   "metadata": {},
   "outputs": [],
   "source": [
    "cv_df = merged_results[('F2', 'week')]\n",
    "times_df = times[('F2', 'week')]\n",
    "display_info_cv(cv_df)"
   ]
  },
  {
   "cell_type": "markdown",
   "id": "d42edb6c",
   "metadata": {},
   "source": [
    "#### Autumn"
   ]
  },
  {
   "cell_type": "code",
   "execution_count": null,
   "id": "fc2f51d5",
   "metadata": {},
   "outputs": [],
   "source": [
    "autumn_F2_week_df = cv_df[\n",
    "    (cv_df['cutoff'] >= pd.Timestamp('2024-09-20')) &\n",
    "    (cv_df['cutoff'] <= pd.Timestamp('2024-12-21'))\n",
    "].copy()\n",
    "display_info_cv(autumn_F2_week_df)"
   ]
  },
  {
   "cell_type": "code",
   "execution_count": null,
   "id": "8056e44d",
   "metadata": {},
   "outputs": [],
   "source": [
    "all_results = evaluate_cv_forecasts(\n",
    "    cv_df=autumn_F2_week_df,\n",
    "    target_df=heat_df, \n",
    "    period_for_nmae=(pd.Timestamp('2024-09-20'), pd.Timestamp('2024-12-21'))\n",
    ")\n",
    "summary = cv_evaluation_summary(all_results)\n",
    "_ = display_cv_summary(summary, sort_metric='mae', times_df=times_df) "
   ]
  },
  {
   "cell_type": "code",
   "execution_count": null,
   "id": "c14fb2dc",
   "metadata": {},
   "outputs": [],
   "source": [
    "all_loss_diffs = compute_loss_diffs(\n",
    "    all_results,\n",
    "    baseline_model='XGBoost'\n",
    ")\n",
    "ld_summary = cv_evaluation_summary(all_loss_diffs)\n",
    "_ = display_cv_summary(ld_summary, are_loss_diffs=True)"
   ]
  },
  {
   "cell_type": "code",
   "execution_count": null,
   "id": "d27c40fc",
   "metadata": {},
   "outputs": [],
   "source": [
    "fig = plotly_cv_metric_by_cutoff(\n",
    "    combined_results=all_results,\n",
    "    metric='mae',  # Change to 'rmse' or 'me' for other metrics\n",
    "    models=['SARIMAX', 'LSTM', 'XGBoost'],\n",
    "    width=1000,\n",
    ")\n",
    "display_scrollable(fig) "
   ]
  },
  {
   "cell_type": "code",
   "execution_count": null,
   "id": "d01f25f4",
   "metadata": {},
   "outputs": [],
   "source": [
    "fig = plotly_cv_metric_by_cutoff(\n",
    "    combined_results=all_loss_diffs,\n",
    "    metric='mae',  # Change to 'rmse' or 'me' for other metrics\n",
    "    models=['LD-LSTM', 'LD-SARIMAX'],\n",
    ")\n",
    "display_scrollable(fig) "
   ]
  },
  {
   "cell_type": "code",
   "execution_count": null,
   "id": "2c82574e",
   "metadata": {},
   "outputs": [],
   "source": [
    "fig = plotly_cutoffs_with_exog(\n",
    "    target_df=heat_df,\n",
    "    cv_df=autumn_F2_week_df,\n",
    "    start_offset=24*7,\n",
    "    end_offset=24*3,\n",
    "    aux_df=aux_df,\n",
    "    exog_vars=['temperature'],\n",
    "    models=['SARIMAX', 'LSTM', 'XGBoost'],\n",
    "    highlight_dayofweek=False,\n",
    "    alpha=1.0,\n",
    "    base_height_per_panel=250,\n",
    ")\n",
    "display_scrollable(fig)"
   ]
  },
  {
   "cell_type": "markdown",
   "id": "b1f72ce3",
   "metadata": {},
   "source": [
    "#### Winter"
   ]
  },
  {
   "cell_type": "code",
   "execution_count": null,
   "id": "3c557d30",
   "metadata": {},
   "outputs": [],
   "source": [
    "winter_F2_week_df = cv_df[\n",
    "    (cv_df['cutoff'] >= pd.Timestamp('2024-12-21')) &\n",
    "    (cv_df['cutoff'] <= pd.Timestamp('2025-03-21'))\n",
    "].copy()\n",
    "display_info_cv(winter_F2_week_df)"
   ]
  },
  {
   "cell_type": "code",
   "execution_count": null,
   "id": "a0ec1618",
   "metadata": {},
   "outputs": [],
   "source": [
    "all_results = evaluate_cv_forecasts(\n",
    "    cv_df=winter_F2_week_df,\n",
    "    target_df=heat_df, \n",
    "    period_for_nmae=(pd.Timestamp('2024-12-21'), pd.Timestamp('2025-03-20'))\n",
    ")\n",
    "summary = cv_evaluation_summary(all_results)\n",
    "_ = display_cv_summary(summary, sort_metric='mae', times_df=times_df) "
   ]
  },
  {
   "cell_type": "code",
   "execution_count": null,
   "id": "dc4532b9",
   "metadata": {},
   "outputs": [],
   "source": [
    "all_loss_diffs = compute_loss_diffs(\n",
    "    all_results,\n",
    "    baseline_model='XGBoost'\n",
    ")\n",
    "ld_summary = cv_evaluation_summary(all_loss_diffs)\n",
    "_ = display_cv_summary(ld_summary, are_loss_diffs=True)"
   ]
  },
  {
   "cell_type": "code",
   "execution_count": null,
   "id": "5a492806",
   "metadata": {},
   "outputs": [],
   "source": [
    "fig = plotly_cv_metric_by_cutoff(\n",
    "    combined_results=all_results,\n",
    "    metric='mae',  # Change to 'rmse' or 'me' for other metrics\n",
    "    models=['SARIMAX', 'LSTM', 'XGBoost'],\n",
    "\n",
    ")\n",
    "display_scrollable(fig)  "
   ]
  },
  {
   "cell_type": "code",
   "execution_count": null,
   "id": "87a8ef49",
   "metadata": {},
   "outputs": [],
   "source": [
    "fig = plotly_cv_metric_by_cutoff(\n",
    "    combined_results=all_loss_diffs,\n",
    "    metric='mae',  # Change to 'rmse' or 'me' for other metrics\n",
    "    models=['LD-LSTM'],\n",
    "\n",
    ")\n",
    "display_scrollable(fig) "
   ]
  },
  {
   "cell_type": "code",
   "execution_count": null,
   "id": "dba800ed",
   "metadata": {},
   "outputs": [],
   "source": [
    "fig = plotly_cutoffs_with_exog(\n",
    "    target_df=heat_df,\n",
    "    cv_df=winter_F2_week_df,\n",
    "    start_offset=24*7,\n",
    "    end_offset=24*3,\n",
    "    aux_df=aux_df,\n",
    "    exog_vars=['temperature'],\n",
    "    models=['SARIMAX', 'LSTM', 'XGBoost'],\n",
    "    highlight_dayofweek=False,\n",
    "    alpha=1.0,\n",
    "    base_height_per_panel=250,\n",
    ")\n",
    "display_scrollable(fig)"
   ]
  },
  {
   "cell_type": "markdown",
   "id": "fd3a0290",
   "metadata": {},
   "source": [
    "#### Spring"
   ]
  },
  {
   "cell_type": "code",
   "execution_count": null,
   "id": "27c4fc07",
   "metadata": {},
   "outputs": [],
   "source": [
    "spring_F2_week_df = cv_df[\n",
    "    (cv_df['cutoff'] >= pd.Timestamp('2025-03-21')) &\n",
    "    (cv_df['cutoff'] <= pd.Timestamp('2025-06-21'))\n",
    "].copy()\n",
    "display_info_cv(spring_F2_week_df)"
   ]
  },
  {
   "cell_type": "code",
   "execution_count": null,
   "id": "5fdbf82b",
   "metadata": {},
   "outputs": [],
   "source": [
    "all_results = evaluate_cv_forecasts(\n",
    "    cv_df=spring_F1_week_df,\n",
    "    target_df=heat_df, \n",
    "    period_for_nmae=(pd.Timestamp('2025-03-21'), pd.Timestamp('2025-06-21'))\n",
    ")\n",
    "summary = cv_evaluation_summary(all_results)\n",
    "_ = display_cv_summary(summary, sort_metric='mae', times_df=times_df)  "
   ]
  },
  {
   "cell_type": "code",
   "execution_count": null,
   "id": "cd233591",
   "metadata": {},
   "outputs": [],
   "source": [
    "all_loss_diffs = compute_loss_diffs(\n",
    "    all_results,\n",
    "    baseline_model='XGBoost'\n",
    ")\n",
    "ld_summary = cv_evaluation_summary(all_loss_diffs)\n",
    "_ = display_cv_summary(ld_summary, are_loss_diffs=True)"
   ]
  },
  {
   "cell_type": "code",
   "execution_count": null,
   "id": "42252b61",
   "metadata": {},
   "outputs": [],
   "source": [
    "fig = plotly_cv_metric_by_cutoff(\n",
    "    combined_results=all_results,\n",
    "    metric='mae',  # Change to 'rmse' or 'me' for other metrics\n",
    "    models=['SARIMAX', 'LSTM', 'XGBoost'],\n",
    "    width=1000,\n",
    ")\n",
    "display_scrollable(fig)  "
   ]
  },
  {
   "cell_type": "code",
   "execution_count": null,
   "id": "d09a05bc",
   "metadata": {},
   "outputs": [],
   "source": [
    "fig = plotly_cv_metric_by_cutoff(\n",
    "    combined_results=all_loss_diffs,\n",
    "    metric='mae',  # Change to 'rmse' or 'me' for other metrics\n",
    "    models=['LD-LSTM', 'LD-SARIMAX'],\n",
    "    width=1000,\n",
    ")\n",
    "display_scrollable(fig) "
   ]
  },
  {
   "cell_type": "code",
   "execution_count": null,
   "id": "fff86f4d",
   "metadata": {},
   "outputs": [],
   "source": [
    "fig = plotly_cutoffs_with_exog(\n",
    "    target_df=heat_df,\n",
    "    cv_df=spring_F2_week_df,\n",
    "    start_offset=24*7,\n",
    "    end_offset=24*3,\n",
    "    aux_df=aux_df,\n",
    "    exog_vars=['temperature'],\n",
    "    models=['SARIMAX', 'LSTM', 'XGBoost'],\n",
    "    highlight_dayofweek=False,\n",
    "    alpha=1.0,\n",
    "    base_height_per_panel=250,\n",
    ")\n",
    "display_scrollable(fig)"
   ]
  },
  {
   "cell_type": "markdown",
   "id": "ad6dabab",
   "metadata": {},
   "source": [
    "## Series F3"
   ]
  },
  {
   "cell_type": "code",
   "execution_count": null,
   "id": "1f70cbd9",
   "metadata": {},
   "outputs": [],
   "source": [
    "plot_target_series(heat_df, 'F3')"
   ]
  },
  {
   "cell_type": "code",
   "execution_count": null,
   "id": "05cec6b9",
   "metadata": {},
   "outputs": [],
   "source": [
    "plot_target_series_daily_agg(heat_df, 'F3')"
   ]
  },
  {
   "cell_type": "markdown",
   "id": "d37e2930",
   "metadata": {},
   "source": [
    "### Daily horizon"
   ]
  },
  {
   "cell_type": "code",
   "execution_count": null,
   "id": "39142d63",
   "metadata": {},
   "outputs": [],
   "source": [
    "cv_df = merged_results[('F3', 'day')]\n",
    "times_df = times[('F3', 'day')]\n",
    "display_info_cv(cv_df)"
   ]
  },
  {
   "cell_type": "markdown",
   "id": "a1b34855",
   "metadata": {},
   "source": [
    "#### Autumn"
   ]
  },
  {
   "cell_type": "code",
   "execution_count": null,
   "id": "d3239f52",
   "metadata": {},
   "outputs": [],
   "source": [
    "autumn_F3_day_df = cv_df[\n",
    "    (cv_df['cutoff'] >= pd.Timestamp('2024-09-20')) &\n",
    "    (cv_df['cutoff'] <= pd.Timestamp('2024-12-21'))\n",
    "].copy()\n",
    "display_info_cv(autumn_F3_day_df)"
   ]
  },
  {
   "cell_type": "code",
   "execution_count": null,
   "id": "3e21cdfc",
   "metadata": {},
   "outputs": [],
   "source": [
    "all_results = evaluate_cv_forecasts(\n",
    "    cv_df=autumn_F3_day_df,#[['XGBoost', 'SVMR', 'ds', 'unique_id', 'cutoff', 'y']],\n",
    "    target_df=heat_df, \n",
    "    period_for_nmae=(pd.Timestamp('2024-09-20'), pd.Timestamp('2024-12-21'))\n",
    ")\n",
    "summary = cv_evaluation_summary(all_results)\n",
    "_ = display_cv_summary(summary, sort_metric='mae', times_df=times_df) "
   ]
  },
  {
   "cell_type": "code",
   "execution_count": null,
   "id": "7140dbc6",
   "metadata": {},
   "outputs": [],
   "source": [
    "all_loss_diffs = compute_loss_diffs(\n",
    "    all_results,\n",
    "    baseline_model='LSTM'\n",
    ")\n",
    "ld_summary = cv_evaluation_summary(all_loss_diffs)\n",
    "_ = display_cv_summary(ld_summary, are_loss_diffs=True)"
   ]
  },
  {
   "cell_type": "code",
   "execution_count": null,
   "id": "00c95f2e",
   "metadata": {},
   "outputs": [],
   "source": [
    "fig = plotly_cv_metric_by_cutoff(\n",
    "    combined_results=all_results,\n",
    "    metric='mae',  # Change to 'rmse' or 'me' for other metrics\n",
    "    models=['SARIMAX', 'LSTM', 'SVMR'],\n",
    "    width=2000,\n",
    ")\n",
    "display_scrollable(fig)   "
   ]
  },
  {
   "cell_type": "code",
   "execution_count": null,
   "id": "93da1cac",
   "metadata": {},
   "outputs": [],
   "source": [
    "fig = plotly_cv_metric_by_cutoff(\n",
    "    combined_results=all_loss_diffs,\n",
    "    metric='mae',  # Change to 'rmse' or 'me' for other metrics\n",
    "    models=['LD-XGBoost', 'LD-SARIMAX'],\n",
    ")\n",
    "display_scrollable(fig) "
   ]
  },
  {
   "cell_type": "code",
   "execution_count": null,
   "id": "3115d1ec",
   "metadata": {},
   "outputs": [],
   "source": [
    "fig = plotly_cutoffs_with_exog(\n",
    "    target_df=heat_df,\n",
    "    cv_df=autumn_F3_day_df,\n",
    "    start_offset=24*7,\n",
    "    end_offset=24*3,\n",
    "    aux_df=aux_df,\n",
    "    exog_vars=['temperature'],\n",
    "    models=['SVMR', 'LSTM', 'SARIMAX'],\n",
    "    highlight_dayofweek=False,\n",
    "    order_of_models=['SVMR', 'LSTM', 'SARIMAX'],\n",
    "    alpha=1.0,\n",
    "    base_height_per_panel=250,\n",
    ")\n",
    "display_scrollable(fig)"
   ]
  },
  {
   "cell_type": "markdown",
   "id": "0433956b",
   "metadata": {},
   "source": [
    "#### Winter"
   ]
  },
  {
   "cell_type": "code",
   "execution_count": null,
   "id": "1f01a5d8",
   "metadata": {},
   "outputs": [],
   "source": [
    "winter_F3_day_df = cv_df[\n",
    "    (cv_df['cutoff'] >= pd.Timestamp('2024-12-21')) &\n",
    "    (cv_df['cutoff'] <= pd.Timestamp('2025-03-21'))\n",
    "].copy()\n",
    "display_info_cv(winter_F3_day_df)"
   ]
  },
  {
   "cell_type": "code",
   "execution_count": null,
   "id": "fd4753ed",
   "metadata": {},
   "outputs": [],
   "source": [
    "all_results = evaluate_cv_forecasts(\n",
    "    cv_df=winter_F3_day_df,#[['LSTM', 'XGBoost', 'ds', 'unique_id', 'cutoff', 'y']],\n",
    "    target_df=heat_df, \n",
    "    period_for_nmae=(pd.Timestamp('2024-12-21'), pd.Timestamp('2025-03-20'))\n",
    ")\n",
    "summary = cv_evaluation_summary(all_results)\n",
    "_ = display_cv_summary(summary, sort_metric='mae', times_df=times_df) "
   ]
  },
  {
   "cell_type": "code",
   "execution_count": null,
   "id": "5d0190e4",
   "metadata": {},
   "outputs": [],
   "source": [
    "all_loss_diffs = compute_loss_diffs(\n",
    "    all_results,\n",
    "    baseline_model='XGBoost'\n",
    ")\n",
    "ld_summary = cv_evaluation_summary(all_loss_diffs)\n",
    "_ = display_cv_summary(ld_summary, are_loss_diffs=True)"
   ]
  },
  {
   "cell_type": "code",
   "execution_count": null,
   "id": "a604e7a0",
   "metadata": {},
   "outputs": [],
   "source": [
    "fig = plotly_cv_metric_by_cutoff(\n",
    "    combined_results=all_results,\n",
    "    metric='mae',  # Change to 'rmse' or 'me' for other metrics\n",
    "    models=['SARIMAX', 'LSTM', 'XGBoost'],\n",
    "    width=2000,\n",
    ")\n",
    "display_scrollable(fig)  "
   ]
  },
  {
   "cell_type": "code",
   "execution_count": null,
   "id": "a816aef9",
   "metadata": {},
   "outputs": [],
   "source": [
    "fig = plotly_cv_metric_by_cutoff(\n",
    "    combined_results=all_loss_diffs,\n",
    "    metric='mae',  # Change to 'rmse' or 'me' for other metrics\n",
    "    models=['LD-LSTM', 'LD-SARIMAX', 'LD-SVMR'],\n",
    ")\n",
    "display_scrollable(fig) "
   ]
  },
  {
   "cell_type": "code",
   "execution_count": null,
   "id": "dbe36b1f",
   "metadata": {},
   "outputs": [],
   "source": [
    "fig = plotly_cutoffs_with_exog(\n",
    "    target_df=heat_df,\n",
    "    cv_df=winter_F3_day_df,\n",
    "    start_offset=24*7,\n",
    "    end_offset=24*3,\n",
    "    aux_df=aux_df,\n",
    "    exog_vars=['temperature'],\n",
    "    models=['XGBoost', 'LSTM', 'SARIMAX'],\n",
    "    highlight_dayofweek=False,\n",
    "    order_of_models=['XGBoost', 'LSTM', 'SARIMAX'],\n",
    "    alpha=1.0,\n",
    "    base_height_per_panel=250,\n",
    ")\n",
    "display_scrollable(fig)"
   ]
  },
  {
   "cell_type": "markdown",
   "id": "e25aebe0",
   "metadata": {},
   "source": [
    "#### Spring"
   ]
  },
  {
   "cell_type": "code",
   "execution_count": null,
   "id": "d9f2fe5b",
   "metadata": {},
   "outputs": [],
   "source": [
    "spring_F3_day_df = cv_df[\n",
    "    (cv_df['cutoff'] >= pd.Timestamp('2025-03-21')) &\n",
    "    (cv_df['cutoff'] <= pd.Timestamp('2025-06-21'))\n",
    "].copy()\n",
    "display_info_cv(spring_F3_day_df)"
   ]
  },
  {
   "cell_type": "code",
   "execution_count": null,
   "id": "615ce89d",
   "metadata": {},
   "outputs": [],
   "source": [
    "all_results = evaluate_cv_forecasts(\n",
    "    cv_df=spring_F3_day_df,#[['LSTM', 'SVMR', 'ds', 'unique_id', 'cutoff', 'y']],\n",
    "    target_df=heat_df, \n",
    "    period_for_nmae=(pd.Timestamp('2025-03-21'), pd.Timestamp('2025-06-21'))\n",
    ")\n",
    "summary = cv_evaluation_summary(all_results)\n",
    "_ = display_cv_summary(summary, sort_metric='mae', times_df=times_df) "
   ]
  },
  {
   "cell_type": "code",
   "execution_count": null,
   "id": "b3c267b0",
   "metadata": {},
   "outputs": [],
   "source": [
    "all_loss_diffs = compute_loss_diffs(\n",
    "    all_results,\n",
    "    baseline_model='SVMR'\n",
    ")\n",
    "ld_summary = cv_evaluation_summary(all_loss_diffs)\n",
    "_ = display_cv_summary(ld_summary, are_loss_diffs=True)"
   ]
  },
  {
   "cell_type": "code",
   "execution_count": null,
   "id": "8c16e439",
   "metadata": {},
   "outputs": [],
   "source": [
    "fig = plotly_cv_metric_by_cutoff(\n",
    "    combined_results=all_results,\n",
    "    metric='mae',  # Change to 'rmse' or 'me' for other metrics\n",
    "    models=['SARIMAX', 'LSTM', 'SVMR'],\n",
    "    width=2000,\n",
    ")\n",
    "display_scrollable(fig)  "
   ]
  },
  {
   "cell_type": "code",
   "execution_count": null,
   "id": "78333f95",
   "metadata": {},
   "outputs": [],
   "source": [
    "fig = plotly_cv_metric_by_cutoff(\n",
    "    combined_results=all_loss_diffs,\n",
    "    metric='mae',  # Change to 'rmse' or 'me' for other metrics\n",
    "    models=['LD-LSTM', 'LD-SARIMAX'],\n",
    ")\n",
    "display_scrollable(fig) "
   ]
  },
  {
   "cell_type": "code",
   "execution_count": null,
   "id": "efb7bebe",
   "metadata": {},
   "outputs": [],
   "source": [
    "fig = plotly_cutoffs_with_exog(\n",
    "    target_df=heat_df,\n",
    "    cv_df=spring_F3_day_df,\n",
    "    start_offset=24*7,\n",
    "    end_offset=24*3,\n",
    "    aux_df=aux_df,\n",
    "    exog_vars=['temperature'],\n",
    "    models=['SVMR', 'LSTM', 'SARIMAX'],\n",
    "    highlight_dayofweek=False,\n",
    "    order_of_models=['SVMR', 'LSTM', 'SARIMAX'],\n",
    "    alpha=1.0,\n",
    "    base_height_per_panel=250,\n",
    ")\n",
    "display_scrollable(fig)"
   ]
  },
  {
   "cell_type": "markdown",
   "id": "a74e2af2",
   "metadata": {},
   "source": [
    "### Weekly horizon"
   ]
  },
  {
   "cell_type": "code",
   "execution_count": null,
   "id": "221dc330",
   "metadata": {},
   "outputs": [],
   "source": [
    "cv_df = merged_results[('F3', 'week')]\n",
    "times_df = times[('F3', 'week')]\n",
    "display_info_cv(cv_df)"
   ]
  },
  {
   "cell_type": "markdown",
   "id": "4e5f46d4",
   "metadata": {},
   "source": [
    "#### Autumn"
   ]
  },
  {
   "cell_type": "code",
   "execution_count": null,
   "id": "564c9e3d",
   "metadata": {},
   "outputs": [],
   "source": [
    "autumn_F3_week_df = cv_df[\n",
    "    (cv_df['cutoff'] >= pd.Timestamp('2024-09-20')) &\n",
    "    (cv_df['cutoff'] <= pd.Timestamp('2024-12-21'))\n",
    "].copy()\n",
    "display_info_cv(autumn_F3_week_df)"
   ]
  },
  {
   "cell_type": "code",
   "execution_count": null,
   "id": "8a0a985b",
   "metadata": {},
   "outputs": [],
   "source": [
    "all_results = evaluate_cv_forecasts(\n",
    "    cv_df=autumn_F3_week_df,\n",
    "    target_df=heat_df, \n",
    "    period_for_nmae=(pd.Timestamp('2024-09-20'), pd.Timestamp('2024-12-21'))\n",
    ")\n",
    "summary = cv_evaluation_summary(all_results)\n",
    "_ = display_cv_summary(summary, sort_metric='mae', times_df=times_df) "
   ]
  },
  {
   "cell_type": "code",
   "execution_count": null,
   "id": "e87dead9",
   "metadata": {},
   "outputs": [],
   "source": [
    "all_loss_diffs = compute_loss_diffs(\n",
    "    all_results,\n",
    "    baseline_model='XGBoost'\n",
    ")\n",
    "ld_summary = cv_evaluation_summary(all_loss_diffs)\n",
    "_ = display_cv_summary(ld_summary, are_loss_diffs=True)"
   ]
  },
  {
   "cell_type": "code",
   "execution_count": null,
   "id": "cefc0239",
   "metadata": {},
   "outputs": [],
   "source": [
    "fig = plotly_cv_metric_by_cutoff(\n",
    "    combined_results=all_results,\n",
    "    metric='mae',  # Change to 'rmse' or 'me' for other metrics\n",
    "    models=['SARIMAX', 'LSTM', 'XGBoost'],\n",
    "    width=1000,\n",
    ")\n",
    "display_scrollable(fig)  "
   ]
  },
  {
   "cell_type": "code",
   "execution_count": null,
   "id": "e5cf9188",
   "metadata": {},
   "outputs": [],
   "source": [
    "fig = plotly_cv_metric_by_cutoff(\n",
    "    combined_results=all_loss_diffs,\n",
    "    metric='mae',  # Change to 'rmse' or 'me' for other metrics\n",
    "    models=['LD-LSTM', 'LD-SARIMAX'],\n",
    "    width=1000,\n",
    ")\n",
    "display_scrollable(fig) "
   ]
  },
  {
   "cell_type": "code",
   "execution_count": null,
   "id": "f5e2e9f5",
   "metadata": {},
   "outputs": [],
   "source": [
    "fig = plotly_cutoffs_with_exog(\n",
    "    target_df=heat_df,\n",
    "    cv_df=autumn_F3_week_df,\n",
    "    start_offset=24*7,\n",
    "    end_offset=24*3,\n",
    "    aux_df=aux_df,\n",
    "    exog_vars=['temperature'],\n",
    "    models=['SARIMAX', 'LSTM', 'XGBoost'],\n",
    "    highlight_dayofweek=False,\n",
    "    alpha=1.0,\n",
    "    base_height_per_panel=250,\n",
    ")\n",
    "display_scrollable(fig)"
   ]
  },
  {
   "cell_type": "markdown",
   "id": "9084fa1b",
   "metadata": {},
   "source": [
    "#### Winter"
   ]
  },
  {
   "cell_type": "code",
   "execution_count": null,
   "id": "31f536f9",
   "metadata": {},
   "outputs": [],
   "source": [
    "winter_F3_week_df = cv_df[\n",
    "    (cv_df['cutoff'] >= pd.Timestamp('2024-12-21')) &\n",
    "    (cv_df['cutoff'] <= pd.Timestamp('2025-03-21'))\n",
    "].copy()\n",
    "display_info_cv(winter_F3_week_df)"
   ]
  },
  {
   "cell_type": "code",
   "execution_count": null,
   "id": "84d2c2cc",
   "metadata": {},
   "outputs": [],
   "source": [
    "all_results = evaluate_cv_forecasts(\n",
    "    cv_df=winter_F3_week_df,\n",
    "    target_df=heat_df, \n",
    "    period_for_nmae=(pd.Timestamp('2024-12-21'), pd.Timestamp('2025-03-20'))\n",
    ")\n",
    "summary = cv_evaluation_summary(all_results)\n",
    "_ = display_cv_summary(summary, sort_metric='mae', times_df=times_df) "
   ]
  },
  {
   "cell_type": "code",
   "execution_count": null,
   "id": "7c5ab283",
   "metadata": {},
   "outputs": [],
   "source": [
    "all_loss_diffs = compute_loss_diffs(\n",
    "    all_results,\n",
    "    baseline_model='XGBoost'\n",
    ")\n",
    "ld_summary = cv_evaluation_summary(all_loss_diffs)\n",
    "_ = display_cv_summary(ld_summary, are_loss_diffs=True)"
   ]
  },
  {
   "cell_type": "code",
   "execution_count": null,
   "id": "7edeb4f9",
   "metadata": {},
   "outputs": [],
   "source": [
    "fig = plotly_cv_metric_by_cutoff(\n",
    "    combined_results=all_results,\n",
    "    metric='mae',  # Change to 'rmse' or 'me' for other metrics\n",
    "    models=['SARIMAX', 'LSTM', 'XGBoost'],\n",
    "    width=1000,\n",
    ")\n",
    "display_scrollable(fig)  "
   ]
  },
  {
   "cell_type": "code",
   "execution_count": null,
   "id": "5dfb7602",
   "metadata": {},
   "outputs": [],
   "source": [
    "fig = plotly_cv_metric_by_cutoff(\n",
    "    combined_results=all_loss_diffs,\n",
    "    metric='mae',  # Change to 'rmse' or 'me' for other metrics\n",
    "    models=['LD-LSTM', 'LD-SARIMAX', 'LD-SVMR'],\n",
    "\n",
    ")\n",
    "display_scrollable(fig) "
   ]
  },
  {
   "cell_type": "code",
   "execution_count": null,
   "id": "f2079f1f",
   "metadata": {},
   "outputs": [],
   "source": [
    "fig = plotly_cutoffs_with_exog(\n",
    "    target_df=heat_df,\n",
    "    cv_df=winter_F3_week_df,\n",
    "    start_offset=24*7,\n",
    "    end_offset=24*3,\n",
    "    aux_df=aux_df,\n",
    "    exog_vars=['temperature'],\n",
    "    models=['SARIMAX', 'LSTM', 'XGBoost'],\n",
    "    highlight_dayofweek=False,\n",
    "    alpha=1.0,\n",
    "    base_height_per_panel=250,\n",
    ")\n",
    "display_scrollable(fig)"
   ]
  },
  {
   "cell_type": "markdown",
   "id": "a92347f3",
   "metadata": {},
   "source": [
    "#### Spring"
   ]
  },
  {
   "cell_type": "code",
   "execution_count": null,
   "id": "684237bd",
   "metadata": {},
   "outputs": [],
   "source": [
    "spring_F3_week_df = cv_df[\n",
    "    (cv_df['cutoff'] >= pd.Timestamp('2025-03-21')) &\n",
    "    (cv_df['cutoff'] <= pd.Timestamp('2025-06-21'))\n",
    "].copy()\n",
    "display_info_cv(spring_F3_week_df)"
   ]
  },
  {
   "cell_type": "code",
   "execution_count": null,
   "id": "efe98d24",
   "metadata": {},
   "outputs": [],
   "source": [
    "all_results = evaluate_cv_forecasts(\n",
    "    cv_df=spring_F3_week_df,\n",
    "    target_df=heat_df, \n",
    "    period_for_nmae=(pd.Timestamp('2025-03-21'), pd.Timestamp('2025-05-12'))\n",
    ")\n",
    "summary = cv_evaluation_summary(all_results)\n",
    "_ = display_cv_summary(summary, sort_metric='mae', times_df=times_df)  "
   ]
  },
  {
   "cell_type": "code",
   "execution_count": null,
   "id": "4549c068",
   "metadata": {},
   "outputs": [],
   "source": [
    "all_loss_diffs = compute_loss_diffs(\n",
    "    all_results,\n",
    "    baseline_model='XGBoost'\n",
    ")\n",
    "ld_summary = cv_evaluation_summary(all_loss_diffs)\n",
    "_ = display_cv_summary(ld_summary, are_loss_diffs=True)"
   ]
  },
  {
   "cell_type": "code",
   "execution_count": null,
   "id": "57772727",
   "metadata": {},
   "outputs": [],
   "source": [
    "fig = plotly_cv_metric_by_cutoff(\n",
    "    combined_results=all_results,\n",
    "    metric='mae',  # Change to 'rmse' or 'me' for other metrics\n",
    "    models=['SARIMAX', 'LSTM', 'XGBoost', 'MSTL', 'SVMR'],\n",
    "    width=1000,\n",
    ")\n",
    "display_scrollable(fig)  "
   ]
  },
  {
   "cell_type": "code",
   "execution_count": null,
   "id": "07f491f7",
   "metadata": {},
   "outputs": [],
   "source": [
    "fig = plotly_cv_metric_by_cutoff(\n",
    "    combined_results=all_loss_diffs,\n",
    "    metric='mae',  # Change to 'rmse' or 'me' for other metrics\n",
    "    models=['LD-LSTM', 'LD-SARIMAX', 'LD-MSTL', 'LD-SVMR'],\n",
    "    width=1000,\n",
    ")\n",
    "display_scrollable(fig) "
   ]
  },
  {
   "cell_type": "code",
   "execution_count": null,
   "id": "39f1fa77",
   "metadata": {},
   "outputs": [],
   "source": [
    "fig = plotly_cutoffs_with_exog(\n",
    "    target_df=heat_df,\n",
    "    cv_df=spring_F3_week_df,\n",
    "    start_offset=24*7,\n",
    "    end_offset=24*3,\n",
    "    aux_df=aux_df,\n",
    "    exog_vars=['temperature'],\n",
    "    models=['SARIMAX', 'LSTM', 'XGBoost', 'MSTL', 'SVMR'],\n",
    "    highlight_dayofweek=False,\n",
    "    alpha=1.0,\n",
    "    base_height_per_panel=250,\n",
    ")\n",
    "display_scrollable(fig)"
   ]
  },
  {
   "cell_type": "markdown",
   "id": "363cea1b",
   "metadata": {},
   "source": [
    "## Series F4"
   ]
  },
  {
   "cell_type": "code",
   "execution_count": null,
   "id": "b28728c6",
   "metadata": {},
   "outputs": [],
   "source": [
    "plot_target_series(heat_df, 'F4')"
   ]
  },
  {
   "cell_type": "code",
   "execution_count": null,
   "id": "b1432459",
   "metadata": {},
   "outputs": [],
   "source": [
    "plot_target_series_daily_agg(heat_df, 'F4')"
   ]
  },
  {
   "cell_type": "markdown",
   "id": "3362c1f1",
   "metadata": {},
   "source": [
    "### Daily horizon"
   ]
  },
  {
   "cell_type": "code",
   "execution_count": null,
   "id": "25fdcdd3",
   "metadata": {},
   "outputs": [],
   "source": [
    "cv_df = merged_results[('F4', 'day')]\n",
    "times_df = times[('F4', 'day')]\n",
    "display_info_cv(cv_df)"
   ]
  },
  {
   "cell_type": "markdown",
   "id": "2e23271b",
   "metadata": {},
   "source": [
    "#### Autumn"
   ]
  },
  {
   "cell_type": "code",
   "execution_count": null,
   "id": "1c25b6f7",
   "metadata": {},
   "outputs": [],
   "source": [
    "autumn_F4_day_df = cv_df[\n",
    "    (cv_df['cutoff'] >= pd.Timestamp('2024-09-20')) &\n",
    "    (cv_df['cutoff'] <= pd.Timestamp('2024-12-21'))\n",
    "].copy()\n",
    "display_info_cv(autumn_F4_day_df)"
   ]
  },
  {
   "cell_type": "code",
   "execution_count": null,
   "id": "a9fab0cf",
   "metadata": {},
   "outputs": [],
   "source": [
    "all_results = evaluate_cv_forecasts(\n",
    "    cv_df=autumn_F4_day_df,#[['LSTM', 'XGBoost', 'ds', 'unique_id', 'cutoff', 'y']],\n",
    "    target_df=heat_df, \n",
    "    period_for_nmae=(pd.Timestamp('2024-09-20'), pd.Timestamp('2024-12-21'))\n",
    ")\n",
    "summary = cv_evaluation_summary(all_results)\n",
    "_ = display_cv_summary(summary, sort_metric='mae', times_df=times_df) "
   ]
  },
  {
   "cell_type": "code",
   "execution_count": null,
   "id": "f8f9b802",
   "metadata": {},
   "outputs": [],
   "source": [
    "all_loss_diffs = compute_loss_diffs(\n",
    "    all_results,\n",
    "    baseline_model='XGBoost'\n",
    ")\n",
    "ld_summary = cv_evaluation_summary(all_loss_diffs)\n",
    "_ = display_cv_summary(ld_summary, are_loss_diffs=True)"
   ]
  },
  {
   "cell_type": "code",
   "execution_count": null,
   "id": "56fa3dde",
   "metadata": {},
   "outputs": [],
   "source": [
    "fig = plotly_cv_metric_by_cutoff(\n",
    "    combined_results=all_results,\n",
    "    metric='mae',  # Change to 'rmse' or 'me' for other metrics\n",
    "    models=['XGBoost', 'SARIMAX', 'LSTM'],\n",
    "\n",
    ")\n",
    "display_scrollable(fig)  "
   ]
  },
  {
   "cell_type": "code",
   "execution_count": null,
   "id": "ea1e090e",
   "metadata": {},
   "outputs": [],
   "source": [
    "fig = plotly_cv_metric_by_cutoff(\n",
    "    combined_results=all_loss_diffs,\n",
    "    metric='mae',  # Change to 'rmse' or 'me' for other metrics\n",
    "    models=['LD-LSTM', 'LD-SARIMAX'],\n",
    "\n",
    ")\n",
    "display_scrollable(fig) "
   ]
  },
  {
   "cell_type": "code",
   "execution_count": null,
   "id": "be847244",
   "metadata": {},
   "outputs": [],
   "source": [
    "fig = plotly_cutoffs_with_exog(\n",
    "    target_df=heat_df,\n",
    "    cv_df=autumn_F4_day_df,\n",
    "    start_offset=24*7,\n",
    "    end_offset=24*3,\n",
    "    aux_df=aux_df,\n",
    "    exog_vars=['temperature'],\n",
    "    models=['SARIMAX', 'LSTM', 'XGBoost'],\n",
    "    highlight_dayofweek=False,\n",
    "    alpha=1.0,\n",
    "    base_height_per_panel=250,\n",
    ")\n",
    "display_scrollable(fig)"
   ]
  },
  {
   "cell_type": "markdown",
   "id": "789f26fe",
   "metadata": {},
   "source": [
    "#### Winter"
   ]
  },
  {
   "cell_type": "code",
   "execution_count": null,
   "id": "8faff367",
   "metadata": {},
   "outputs": [],
   "source": [
    "winter_F4_day_df = cv_df[\n",
    "    (cv_df['cutoff'] >= pd.Timestamp('2024-12-21')) &\n",
    "    (cv_df['cutoff'] <= pd.Timestamp('2025-03-21'))\n",
    "].copy()\n",
    "display_info_cv(winter_F4_day_df)"
   ]
  },
  {
   "cell_type": "code",
   "execution_count": null,
   "id": "af0d6e85",
   "metadata": {},
   "outputs": [],
   "source": [
    "all_results = evaluate_cv_forecasts(\n",
    "    cv_df=winter_F4_day_df,#[['LSTM', 'XGBoost', 'ds', 'unique_id', 'cutoff', 'y']],\n",
    "    target_df=heat_df, \n",
    "    period_for_nmae=(pd.Timestamp('2024-12-21'), pd.Timestamp('2025-03-20'))\n",
    ")\n",
    "summary = cv_evaluation_summary(all_results)\n",
    "_ = display_cv_summary(summary, sort_metric='mae', times_df=times_df) "
   ]
  },
  {
   "cell_type": "code",
   "execution_count": null,
   "id": "35475a97",
   "metadata": {},
   "outputs": [],
   "source": [
    "all_loss_diffs = compute_loss_diffs(\n",
    "    all_results,\n",
    "    baseline_model='LSTM'\n",
    ")\n",
    "ld_summary = cv_evaluation_summary(all_loss_diffs)\n",
    "_ = display_cv_summary(ld_summary, are_loss_diffs=True)"
   ]
  },
  {
   "cell_type": "code",
   "execution_count": null,
   "id": "bf0afcb6",
   "metadata": {},
   "outputs": [],
   "source": [
    "fig = plotly_cv_metric_by_cutoff(\n",
    "    combined_results=all_results,\n",
    "    metric='mae',  # Change to 'rmse' or 'me' for other metrics\n",
    "    models=['XGBoost', 'SARIMAX', 'LSTM'],\n",
    "\n",
    ")\n",
    "display_scrollable(fig)  "
   ]
  },
  {
   "cell_type": "code",
   "execution_count": null,
   "id": "809b60e7",
   "metadata": {},
   "outputs": [],
   "source": [
    "fig = plotly_cv_metric_by_cutoff(\n",
    "    combined_results=all_loss_diffs,\n",
    "    metric='mae',  # Change to 'rmse' or 'me' for other metrics\n",
    "    models=['LD-XGBoost', 'LD-SARIMAX'],\n",
    "\n",
    ")\n",
    "display_scrollable(fig) "
   ]
  },
  {
   "cell_type": "code",
   "execution_count": null,
   "id": "69979561",
   "metadata": {},
   "outputs": [],
   "source": [
    "fig = plotly_cutoffs_with_exog(\n",
    "    target_df=heat_df,\n",
    "    cv_df=winter_F4_day_df,\n",
    "    start_offset=24*7,\n",
    "    end_offset=24*3,\n",
    "    aux_df=aux_df,\n",
    "    exog_vars=['temperature'],\n",
    "    models=['SARIMAX', 'LSTM', 'XGBoost'],\n",
    "    highlight_dayofweek=False,\n",
    "    alpha=1.0,\n",
    "    base_height_per_panel=250,\n",
    ")\n",
    "display_scrollable(fig)"
   ]
  },
  {
   "cell_type": "markdown",
   "id": "506df1bc",
   "metadata": {},
   "source": [
    "#### Spring"
   ]
  },
  {
   "cell_type": "code",
   "execution_count": null,
   "id": "d678fed5",
   "metadata": {},
   "outputs": [],
   "source": [
    "spring_F4_day_df = cv_df[\n",
    "    (cv_df['cutoff'] >= pd.Timestamp('2025-03-21')) &\n",
    "    (cv_df['cutoff'] <= pd.Timestamp('2025-06-21'))\n",
    "].copy()\n",
    "display_info_cv(spring_F4_day_df)"
   ]
  },
  {
   "cell_type": "code",
   "execution_count": null,
   "id": "d5b27da8",
   "metadata": {},
   "outputs": [],
   "source": [
    "all_results = evaluate_cv_forecasts(\n",
    "    cv_df=spring_F4_day_df,#[['LSTM', 'XGBoost', 'ds', 'unique_id', 'cutoff', 'y']],\n",
    "    target_df=heat_df, \n",
    "    period_for_nmae=(pd.Timestamp('2025-03-21'), pd.Timestamp('2025-06-21'))\n",
    ")\n",
    "summary = cv_evaluation_summary(all_results)\n",
    "_ = display_cv_summary(summary, sort_metric='mae', times_df=times_df) "
   ]
  },
  {
   "cell_type": "code",
   "execution_count": null,
   "id": "ad9d911d",
   "metadata": {},
   "outputs": [],
   "source": [
    "all_loss_diffs = compute_loss_diffs(\n",
    "    all_results,\n",
    "    baseline_model='SVMR'\n",
    ")\n",
    "ld_summary = cv_evaluation_summary(all_loss_diffs)\n",
    "_ = display_cv_summary(ld_summary, are_loss_diffs=True)"
   ]
  },
  {
   "cell_type": "code",
   "execution_count": null,
   "id": "00f4e4a5",
   "metadata": {},
   "outputs": [],
   "source": [
    "fig = plotly_cv_metric_by_cutoff(\n",
    "    combined_results=all_results,\n",
    "    metric='mae',  # Change to 'rmse' or 'me' for other metrics\n",
    "    models=['SVMR', 'SARIMAX', 'LSTM'],\n",
    "\n",
    ")\n",
    "display_scrollable(fig)  "
   ]
  },
  {
   "cell_type": "code",
   "execution_count": null,
   "id": "db562197",
   "metadata": {},
   "outputs": [],
   "source": [
    "fig = plotly_cv_metric_by_cutoff(\n",
    "    combined_results=all_loss_diffs,\n",
    "    metric='mae',  # Change to 'rmse' or 'me' for other metrics\n",
    "    models=['LD-LSTM', 'LD-SARIMAX'],\n",
    "\n",
    ")\n",
    "display_scrollable(fig) "
   ]
  },
  {
   "cell_type": "code",
   "execution_count": null,
   "id": "1adc8b99",
   "metadata": {},
   "outputs": [],
   "source": [
    "fig = plotly_cutoffs_with_exog(\n",
    "    target_df=heat_df,\n",
    "    cv_df=spring_F4_day_df,\n",
    "    start_offset=24*7,\n",
    "    end_offset=24*3,\n",
    "    aux_df=aux_df,\n",
    "    exog_vars=['temperature'],\n",
    "    models=['SVMR', 'SARIMAX', 'LSTM'],\n",
    "    highlight_dayofweek=False,\n",
    "    order_of_models=['SVMR', 'SARIMAX', 'LSTM'],\n",
    "    alpha=1.0,\n",
    "    base_height_per_panel=250,\n",
    ")\n",
    "display_scrollable(fig)"
   ]
  },
  {
   "cell_type": "markdown",
   "id": "3f89c017",
   "metadata": {},
   "source": [
    "### Weekly horizon"
   ]
  },
  {
   "cell_type": "code",
   "execution_count": null,
   "id": "3fa8ea1e",
   "metadata": {},
   "outputs": [],
   "source": [
    "cv_df = merged_results[('F4', 'week')]\n",
    "times_df = times[('F4', 'week')]\n",
    "display_info_cv(cv_df)"
   ]
  },
  {
   "cell_type": "markdown",
   "id": "3852bba6",
   "metadata": {},
   "source": [
    "#### Autumn"
   ]
  },
  {
   "cell_type": "code",
   "execution_count": null,
   "id": "35608f9a",
   "metadata": {},
   "outputs": [],
   "source": [
    "autumn_F4_week_df = cv_df[\n",
    "    (cv_df['cutoff'] >= pd.Timestamp('2024-09-20')) &\n",
    "    (cv_df['cutoff'] <= pd.Timestamp('2024-12-21'))\n",
    "].copy()\n",
    "display_info_cv(autumn_F4_week_df)"
   ]
  },
  {
   "cell_type": "code",
   "execution_count": null,
   "id": "14cbc581",
   "metadata": {},
   "outputs": [],
   "source": [
    "all_results = evaluate_cv_forecasts(\n",
    "    cv_df=autumn_F4_week_df,\n",
    "    target_df=heat_df, \n",
    "    period_for_nmae=(pd.Timestamp('2024-09-20'), pd.Timestamp('2024-12-21'))\n",
    ")\n",
    "summary = cv_evaluation_summary(all_results)\n",
    "_ = display_cv_summary(summary, sort_metric='mae', times_df=times_df) "
   ]
  },
  {
   "cell_type": "code",
   "execution_count": null,
   "id": "24aa7a0d",
   "metadata": {},
   "outputs": [],
   "source": [
    "all_loss_diffs = compute_loss_diffs(\n",
    "    all_results,\n",
    "    baseline_model='XGBoost'\n",
    ")\n",
    "ld_summary = cv_evaluation_summary(all_loss_diffs)\n",
    "_ = display_cv_summary(ld_summary, are_loss_diffs=True)"
   ]
  },
  {
   "cell_type": "code",
   "execution_count": null,
   "id": "065e1224",
   "metadata": {},
   "outputs": [],
   "source": [
    "fig = plotly_cv_metric_by_cutoff(\n",
    "    combined_results=all_results,\n",
    "    metric='mae',  # Change to 'rmse' or 'me' for other metrics\n",
    "    width=1000,\n",
    "\n",
    ")\n",
    "display_scrollable(fig)  "
   ]
  },
  {
   "cell_type": "code",
   "execution_count": null,
   "id": "555aa6f0",
   "metadata": {},
   "outputs": [],
   "source": [
    "fig = plotly_cv_metric_by_cutoff(\n",
    "    combined_results=all_loss_diffs,\n",
    "    metric='mae',  # Change to 'rmse' or 'me' for other metrics\n",
    "    width=1000,\n",
    ")\n",
    "display_scrollable(fig) "
   ]
  },
  {
   "cell_type": "code",
   "execution_count": null,
   "id": "69b171d4",
   "metadata": {},
   "outputs": [],
   "source": [
    "fig = plotly_cutoffs_with_exog(\n",
    "    target_df=heat_df,\n",
    "    cv_df=autumn_F4_week_df,\n",
    "    start_offset=24*7,\n",
    "    end_offset=24*3,\n",
    "    aux_df=aux_df,\n",
    "    exog_vars=['temperature'],\n",
    "    models=['SARIMAX', 'LSTM', 'XGBoost', 'SVMR'],\n",
    "    highlight_dayofweek=False,\n",
    "    alpha=1.0,\n",
    "    base_height_per_panel=250,\n",
    ")\n",
    "display_scrollable(fig)"
   ]
  },
  {
   "cell_type": "markdown",
   "id": "27323af9",
   "metadata": {},
   "source": [
    "#### Winter"
   ]
  },
  {
   "cell_type": "code",
   "execution_count": null,
   "id": "ac03c7a7",
   "metadata": {},
   "outputs": [],
   "source": [
    "winter_F4_week_df = cv_df[\n",
    "    (cv_df['cutoff'] >= pd.Timestamp('2024-12-21')) &\n",
    "    (cv_df['cutoff'] <= pd.Timestamp('2025-03-21'))\n",
    "].copy()\n",
    "display_info_cv(winter_F4_week_df)"
   ]
  },
  {
   "cell_type": "code",
   "execution_count": null,
   "id": "38b5f89e",
   "metadata": {},
   "outputs": [],
   "source": [
    "all_results = evaluate_cv_forecasts(\n",
    "    cv_df=winter_F4_week_df,\n",
    "    target_df=heat_df, \n",
    "    period_for_nmae=(pd.Timestamp('2024-12-21'), pd.Timestamp('2025-03-20'))\n",
    ")\n",
    "summary = cv_evaluation_summary(all_results)\n",
    "_ = display_cv_summary(summary, sort_metric='mae', times_df=times_df) "
   ]
  },
  {
   "cell_type": "code",
   "execution_count": null,
   "id": "1186b24b",
   "metadata": {},
   "outputs": [],
   "source": [
    "all_loss_diffs = compute_loss_diffs(\n",
    "    all_results,\n",
    "    baseline_model='SARIMAX'\n",
    ")\n",
    "ld_summary = cv_evaluation_summary(all_loss_diffs)\n",
    "_ = display_cv_summary(ld_summary, are_loss_diffs=True)"
   ]
  },
  {
   "cell_type": "code",
   "execution_count": null,
   "id": "5c175e22",
   "metadata": {},
   "outputs": [],
   "source": [
    "fig = plotly_cv_metric_by_cutoff(\n",
    "    combined_results=all_results,\n",
    "    metric='mae',  # Change to 'rmse' or 'me' for other metrics \n",
    "    width=1000,\n",
    ")\n",
    "display_scrollable(fig)  "
   ]
  },
  {
   "cell_type": "code",
   "execution_count": null,
   "id": "ed4a8ae4",
   "metadata": {},
   "outputs": [],
   "source": [
    "fig = plotly_cv_metric_by_cutoff(\n",
    "    combined_results=all_loss_diffs,\n",
    "    metric='mae',  # Change to 'rmse' or 'me' for other metrics\n",
    "    width=1000,\n",
    ")\n",
    "display_scrollable(fig) "
   ]
  },
  {
   "cell_type": "code",
   "execution_count": null,
   "id": "6366e776",
   "metadata": {},
   "outputs": [],
   "source": [
    "fig = plotly_cutoffs_with_exog(\n",
    "    target_df=heat_df,\n",
    "    cv_df=winter_F4_week_df,\n",
    "    start_offset=24*7,\n",
    "    end_offset=24*3,\n",
    "    aux_df=aux_df,\n",
    "    exog_vars=['temperature'],\n",
    "    models=['SARIMAX', 'LSTM', 'XGBoost', 'SVMR'],\n",
    "    highlight_dayofweek=False,\n",
    "    alpha=1.0,\n",
    "    base_height_per_panel=250,\n",
    ")\n",
    "display_scrollable(fig)"
   ]
  },
  {
   "cell_type": "markdown",
   "id": "aeff4a5d",
   "metadata": {},
   "source": [
    "#### Spring"
   ]
  },
  {
   "cell_type": "code",
   "execution_count": null,
   "id": "2aeacf50",
   "metadata": {},
   "outputs": [],
   "source": [
    "spring_F4_week_df = cv_df[\n",
    "    (cv_df['cutoff'] >= pd.Timestamp('2025-03-21')) &\n",
    "    (cv_df['cutoff'] <= pd.Timestamp('2025-06-21'))\n",
    "].copy()\n",
    "display_info_cv(spring_F4_week_df)"
   ]
  },
  {
   "cell_type": "code",
   "execution_count": null,
   "id": "a4d52bf5",
   "metadata": {},
   "outputs": [],
   "source": [
    "all_results = evaluate_cv_forecasts(\n",
    "    cv_df=spring_F4_week_df,\n",
    "    target_df=heat_df, \n",
    "    period_for_nmae=(pd.Timestamp('2025-03-21'), pd.Timestamp('2025-05-12'))\n",
    ")\n",
    "summary = cv_evaluation_summary(all_results)\n",
    "_ = display_cv_summary(summary, sort_metric='mae', times_df=times_df) "
   ]
  },
  {
   "cell_type": "code",
   "execution_count": null,
   "id": "723f951f",
   "metadata": {},
   "outputs": [],
   "source": [
    "all_loss_diffs = compute_loss_diffs(\n",
    "    all_results,\n",
    "    baseline_model='XGBoost'\n",
    ")\n",
    "ld_summary = cv_evaluation_summary(all_loss_diffs)\n",
    "_ = display_cv_summary(ld_summary, are_loss_diffs=True)"
   ]
  },
  {
   "cell_type": "code",
   "execution_count": null,
   "id": "e80fa54a",
   "metadata": {},
   "outputs": [],
   "source": [
    "fig = plotly_cv_metric_by_cutoff(\n",
    "    combined_results=all_results,\n",
    "    metric='mae',  # Change to 'rmse' or 'me' for other metrics\n",
    "    width=1000,\n",
    ")\n",
    "display_scrollable(fig)  "
   ]
  },
  {
   "cell_type": "code",
   "execution_count": null,
   "id": "d162edcb",
   "metadata": {},
   "outputs": [],
   "source": [
    "fig = plotly_cv_metric_by_cutoff(\n",
    "    combined_results=all_loss_diffs,\n",
    "    metric='mae',  # Change to 'rmse' or 'me' for other metrics\n",
    "    width=1000,\n",
    ")\n",
    "display_scrollable(fig) "
   ]
  },
  {
   "cell_type": "code",
   "execution_count": null,
   "id": "1e66fa54",
   "metadata": {},
   "outputs": [],
   "source": [
    "fig = plotly_cutoffs_with_exog(\n",
    "    target_df=heat_df,\n",
    "    cv_df=spring_F4_week_df,\n",
    "    start_offset=24*7,\n",
    "    end_offset=24*3,\n",
    "    aux_df=aux_df,\n",
    "    exog_vars=['temperature'],\n",
    "    models=['SARIMAX', 'LSTM', 'XGBoost', 'SVMR'],\n",
    "    highlight_dayofweek=False,\n",
    "    alpha=1.0,\n",
    "    base_height_per_panel=250,\n",
    ")\n",
    "display_scrollable(fig)"
   ]
  },
  {
   "cell_type": "markdown",
   "id": "8936be35",
   "metadata": {},
   "source": [
    "## Series F5"
   ]
  },
  {
   "cell_type": "code",
   "execution_count": null,
   "id": "b6a98f22",
   "metadata": {},
   "outputs": [],
   "source": [
    "plot_target_series(heat_df, 'F5')"
   ]
  },
  {
   "cell_type": "code",
   "execution_count": null,
   "id": "b0fe03d8",
   "metadata": {},
   "outputs": [],
   "source": [
    "plot_target_series_daily_agg(heat_df, 'F5')"
   ]
  },
  {
   "cell_type": "markdown",
   "id": "754d8c50",
   "metadata": {},
   "source": [
    "### Daily horizon"
   ]
  },
  {
   "cell_type": "code",
   "execution_count": null,
   "id": "b05c8f2f",
   "metadata": {},
   "outputs": [],
   "source": [
    "cv_df = merged_results[('F5', 'day')]\n",
    "times_df = times[('F5', 'day')]\n",
    "display_info_cv(cv_df)"
   ]
  },
  {
   "cell_type": "markdown",
   "id": "2a2259fe",
   "metadata": {},
   "source": [
    "#### Autumn"
   ]
  },
  {
   "cell_type": "code",
   "execution_count": null,
   "id": "d46d163e",
   "metadata": {},
   "outputs": [],
   "source": [
    "autumn_F5_day_df = cv_df[\n",
    "    (cv_df['cutoff'] >= pd.Timestamp('2024-09-20')) &\n",
    "    (cv_df['cutoff'] <= pd.Timestamp('2024-12-21'))\n",
    "].copy()\n",
    "display_info_cv(autumn_F5_day_df)"
   ]
  },
  {
   "cell_type": "code",
   "execution_count": null,
   "id": "7c833cb7",
   "metadata": {},
   "outputs": [],
   "source": [
    "all_results = evaluate_cv_forecasts(\n",
    "    cv_df=autumn_F5_day_df,\n",
    "    target_df=heat_df, \n",
    "    period_for_nmae=(pd.Timestamp('2024-09-20'), pd.Timestamp('2024-12-21'))\n",
    ")\n",
    "summary = cv_evaluation_summary(all_results)\n",
    "_ = display_cv_summary(summary, sort_metric='mae', times_df=times_df) "
   ]
  },
  {
   "cell_type": "code",
   "execution_count": null,
   "id": "47f445f2",
   "metadata": {},
   "outputs": [],
   "source": [
    "all_loss_diffs = compute_loss_diffs(\n",
    "    all_results,\n",
    "    baseline_model='XGBoost'\n",
    ")\n",
    "ld_summary = cv_evaluation_summary(all_loss_diffs)\n",
    "_ = display_cv_summary(ld_summary, are_loss_diffs=True)"
   ]
  },
  {
   "cell_type": "code",
   "execution_count": null,
   "id": "f79c47c6",
   "metadata": {},
   "outputs": [],
   "source": [
    "fig = plotly_cv_metric_by_cutoff(\n",
    "    combined_results=all_results,\n",
    "    metric='mae',  # Change to 'rmse' or 'me' for other metrics\n",
    "    models=['XGBoost', 'SARIMAX', 'LSTM'],\n",
    "\n",
    ")\n",
    "display_scrollable(fig)  "
   ]
  },
  {
   "cell_type": "code",
   "execution_count": null,
   "id": "cfc0aa56",
   "metadata": {},
   "outputs": [],
   "source": [
    "fig = plotly_cv_metric_by_cutoff(\n",
    "    combined_results=all_loss_diffs,\n",
    "    metric='mae',  # Change to 'rmse' or 'me' for other metrics\n",
    "    models=['LD-LSTM', 'LD-SARIMAX'],\n",
    "\n",
    ")\n",
    "display_scrollable(fig) "
   ]
  },
  {
   "cell_type": "code",
   "execution_count": null,
   "id": "907dd535",
   "metadata": {},
   "outputs": [],
   "source": [
    "fig = plotly_cutoffs_with_exog(\n",
    "    target_df=heat_df,\n",
    "    cv_df=autumn_F5_day_df,\n",
    "    start_offset=24*7,\n",
    "    end_offset=24*3,\n",
    "    aux_df=aux_df,\n",
    "    exog_vars=['temperature'],\n",
    "    models=['SVMR','SARIMAX', 'LSTM'],\n",
    "    highlight_dayofweek=False,\n",
    "    order_of_models=['SVMR', 'SARIMAX', 'LSTM'],\n",
    "    alpha=1.0,\n",
    "    base_height_per_panel=250,\n",
    ")\n",
    "display_scrollable(fig)"
   ]
  },
  {
   "cell_type": "markdown",
   "id": "7d501562",
   "metadata": {},
   "source": [
    "#### Winter"
   ]
  },
  {
   "cell_type": "code",
   "execution_count": null,
   "id": "79f19536",
   "metadata": {},
   "outputs": [],
   "source": [
    "winter_F5_day_df = cv_df[\n",
    "    (cv_df['cutoff'] >= pd.Timestamp('2024-12-21')) &\n",
    "    (cv_df['cutoff'] <= pd.Timestamp('2025-03-21'))\n",
    "].copy()\n",
    "display_info_cv(winter_F5_day_df)"
   ]
  },
  {
   "cell_type": "code",
   "execution_count": null,
   "id": "7570c3a0",
   "metadata": {},
   "outputs": [],
   "source": [
    "all_results = evaluate_cv_forecasts(\n",
    "    cv_df=winter_F5_day_df,\n",
    "    target_df=heat_df, \n",
    "    period_for_nmae=(pd.Timestamp('2024-12-21'), pd.Timestamp('2025-03-20'))\n",
    ")\n",
    "summary = cv_evaluation_summary(all_results)\n",
    "_ = display_cv_summary(summary, sort_metric='mae', times_df=times_df) "
   ]
  },
  {
   "cell_type": "code",
   "execution_count": null,
   "id": "e7996b5b",
   "metadata": {},
   "outputs": [],
   "source": [
    "all_loss_diffs = compute_loss_diffs(\n",
    "    all_results,\n",
    "    baseline_model='XGBoost'\n",
    ")\n",
    "ld_summary = cv_evaluation_summary(all_loss_diffs)\n",
    "_ = display_cv_summary(ld_summary, are_loss_diffs=True)"
   ]
  },
  {
   "cell_type": "code",
   "execution_count": null,
   "id": "6e823daf",
   "metadata": {},
   "outputs": [],
   "source": [
    "fig = plotly_cv_metric_by_cutoff(\n",
    "    combined_results=all_results,\n",
    "    metric='mae',  # Change to 'rmse' or 'me' for other metrics\n",
    "    models=['XGBoost', 'SARIMAX', 'LSTM'],\n",
    "\n",
    ")\n",
    "display_scrollable(fig)  "
   ]
  },
  {
   "cell_type": "code",
   "execution_count": null,
   "id": "3db50aca",
   "metadata": {},
   "outputs": [],
   "source": [
    "fig = plotly_cv_metric_by_cutoff(\n",
    "    combined_results=all_loss_diffs,\n",
    "    metric='mae',  # Change to 'rmse' or 'me' for other metrics\n",
    "    models=['LD-LSTM', 'LD-SARIMAX'],\n",
    "\n",
    ")\n",
    "display_scrollable(fig) "
   ]
  },
  {
   "cell_type": "code",
   "execution_count": null,
   "id": "9691560a",
   "metadata": {},
   "outputs": [],
   "source": [
    "fig = plotly_cutoffs_with_exog(\n",
    "    target_df=heat_df,\n",
    "    cv_df=winter_F5_day_df,\n",
    "    start_offset=24*7,\n",
    "    end_offset=24*3,\n",
    "    aux_df=aux_df,\n",
    "    exog_vars=['temperature'],\n",
    "    models=['XGBoost', 'SARIMAX', 'LSTM'],\n",
    "    highlight_dayofweek=False,\n",
    "    order_of_models=['XGBoost', 'SARIMAX', 'LSTM'],\n",
    "    alpha=1.0,\n",
    "    base_height_per_panel=250,\n",
    ")\n",
    "display_scrollable(fig)"
   ]
  },
  {
   "cell_type": "markdown",
   "id": "24048d80",
   "metadata": {},
   "source": [
    "#### Spring"
   ]
  },
  {
   "cell_type": "code",
   "execution_count": null,
   "id": "682a5afc",
   "metadata": {},
   "outputs": [],
   "source": [
    "spring_F5_day_df = cv_df[\n",
    "    (cv_df['cutoff'] >= pd.Timestamp('2025-03-21')) &\n",
    "    (cv_df['cutoff'] <= pd.Timestamp('2025-06-21'))\n",
    "].copy()\n",
    "display_info_cv(spring_F5_day_df)"
   ]
  },
  {
   "cell_type": "code",
   "execution_count": null,
   "id": "91eab1f4",
   "metadata": {},
   "outputs": [],
   "source": [
    "all_results = evaluate_cv_forecasts(\n",
    "    cv_df=spring_F5_day_df,\n",
    "    target_df=heat_df, \n",
    "    period_for_nmae=(pd.Timestamp('2025-03-21'), pd.Timestamp('2025-06-21'))\n",
    ")\n",
    "summary = cv_evaluation_summary(all_results)\n",
    "_ = display_cv_summary(summary, sort_metric='mae', times_df=times_df) "
   ]
  },
  {
   "cell_type": "code",
   "execution_count": null,
   "id": "8d6bee45",
   "metadata": {},
   "outputs": [],
   "source": [
    "all_loss_diffs = compute_loss_diffs(\n",
    "    all_results,\n",
    "    baseline_model='SVMR'\n",
    ")\n",
    "ld_summary = cv_evaluation_summary(all_loss_diffs)\n",
    "_ = display_cv_summary(ld_summary, are_loss_diffs=True)"
   ]
  },
  {
   "cell_type": "code",
   "execution_count": null,
   "id": "49a47bea",
   "metadata": {},
   "outputs": [],
   "source": [
    "fig = plotly_cv_metric_by_cutoff(\n",
    "    combined_results=all_results,\n",
    "    metric='mae',  # Change to 'rmse' or 'me' for other metrics\n",
    "    models=['SVMR', 'SARIMAX', 'LSTM'],\n",
    "\n",
    ")\n",
    "display_scrollable(fig)  "
   ]
  },
  {
   "cell_type": "code",
   "execution_count": null,
   "id": "acb835ea",
   "metadata": {},
   "outputs": [],
   "source": [
    "fig = plotly_cv_metric_by_cutoff(\n",
    "    combined_results=all_loss_diffs,\n",
    "    metric='mae',  # Change to 'rmse' or 'me' for other metrics\n",
    "    models=['LD-LSTM', 'LD-SARIMAX'],\n",
    "\n",
    ")\n",
    "display_scrollable(fig) "
   ]
  },
  {
   "cell_type": "code",
   "execution_count": null,
   "id": "702f41f2",
   "metadata": {},
   "outputs": [],
   "source": [
    "fig = plotly_cutoffs_with_exog(\n",
    "    target_df=heat_df,\n",
    "    cv_df=spring_F5_day_df,\n",
    "    start_offset=24*7,\n",
    "    end_offset=24*3,\n",
    "    aux_df=aux_df,\n",
    "    exog_vars=['temperature'],\n",
    "    models=['SVMR', 'SARIMAX', 'LSTM'],\n",
    "    highlight_dayofweek=False,\n",
    "    order_of_models=['SVMR', 'SARIMAX', 'LSTM'],\n",
    "    alpha=1.0,\n",
    "    base_height_per_panel=250,\n",
    ")\n",
    "display_scrollable(fig)"
   ]
  },
  {
   "cell_type": "markdown",
   "id": "58c4a384",
   "metadata": {},
   "source": [
    "### Weekly horizon"
   ]
  },
  {
   "cell_type": "code",
   "execution_count": null,
   "id": "ff71b872",
   "metadata": {},
   "outputs": [],
   "source": [
    "cv_df = merged_results[('F5', 'week')]\n",
    "times_df = times[('F5', 'week')]\n",
    "display_info_cv(cv_df)"
   ]
  },
  {
   "cell_type": "markdown",
   "id": "6515629f",
   "metadata": {},
   "source": [
    "#### Autumn"
   ]
  },
  {
   "cell_type": "code",
   "execution_count": null,
   "id": "3c582c65",
   "metadata": {},
   "outputs": [],
   "source": [
    "autumn_F5_week_df = cv_df[\n",
    "    (cv_df['cutoff'] >= pd.Timestamp('2024-09-20')) &\n",
    "    (cv_df['cutoff'] <= pd.Timestamp('2024-12-21'))\n",
    "].copy()\n",
    "display_info_cv(autumn_F5_week_df)"
   ]
  },
  {
   "cell_type": "code",
   "execution_count": null,
   "id": "c9e3f5fe",
   "metadata": {},
   "outputs": [],
   "source": [
    "all_results = evaluate_cv_forecasts(\n",
    "    cv_df=autumn_F5_week_df,\n",
    "    target_df=heat_df, \n",
    "    period_for_nmae=(pd.Timestamp('2024-09-20'), pd.Timestamp('2024-12-21'))\n",
    ")\n",
    "summary = cv_evaluation_summary(all_results)\n",
    "_ = display_cv_summary(summary, sort_metric='mae', times_df=times_df) "
   ]
  },
  {
   "cell_type": "code",
   "execution_count": null,
   "id": "3bac0d04",
   "metadata": {},
   "outputs": [],
   "source": [
    "all_loss_diffs = compute_loss_diffs(\n",
    "    all_results,\n",
    "    baseline_model='XGBoost'\n",
    ")\n",
    "ld_summary = cv_evaluation_summary(all_loss_diffs)\n",
    "_ = display_cv_summary(ld_summary, are_loss_diffs=True)"
   ]
  },
  {
   "cell_type": "code",
   "execution_count": null,
   "id": "7aadcd38",
   "metadata": {},
   "outputs": [],
   "source": [
    "fig = plotly_cv_metric_by_cutoff(\n",
    "    combined_results=all_results,\n",
    "    metric='mae',  # Change to 'rmse' or 'me' for other metrics\n",
    "    models=['SARIMAX', 'LSTM', 'XGBoost'],\n",
    "    width=1000,\n",
    ")\n",
    "display_scrollable(fig)  "
   ]
  },
  {
   "cell_type": "code",
   "execution_count": null,
   "id": "58d04957",
   "metadata": {},
   "outputs": [],
   "source": [
    "fig = plotly_cv_metric_by_cutoff(\n",
    "    combined_results=all_loss_diffs,\n",
    "    metric='mae',  # Change to 'rmse' or 'me' for other metrics\n",
    "    models=['LD-LSTM', 'LD-SARIMAX', 'LD-SVMR'],\n",
    "    width=1000,\n",
    ")\n",
    "display_scrollable(fig) "
   ]
  },
  {
   "cell_type": "code",
   "execution_count": null,
   "id": "9c7fde0c",
   "metadata": {},
   "outputs": [],
   "source": [
    "fig = plotly_cutoffs_with_exog(\n",
    "    target_df=heat_df,\n",
    "    cv_df=autumn_F5_week_df,\n",
    "    start_offset=24*7,\n",
    "    end_offset=24*3,\n",
    "    aux_df=aux_df,\n",
    "    exog_vars=['temperature'],\n",
    "    models=['SARIMAX', 'LSTM', 'XGBoost', 'SVMR'],\n",
    "    highlight_dayofweek=False,\n",
    "    alpha=1.0,\n",
    "    base_height_per_panel=250,\n",
    ")\n",
    "display_scrollable(fig)"
   ]
  },
  {
   "cell_type": "markdown",
   "id": "3c7ab168",
   "metadata": {},
   "source": [
    "#### Winter"
   ]
  },
  {
   "cell_type": "code",
   "execution_count": null,
   "id": "db205400",
   "metadata": {},
   "outputs": [],
   "source": [
    "winter_F5_week_df = cv_df[\n",
    "    (cv_df['cutoff'] >= pd.Timestamp('2024-12-21')) &\n",
    "    (cv_df['cutoff'] <= pd.Timestamp('2025-03-21'))\n",
    "].copy()\n",
    "display_info_cv(winter_F5_week_df)"
   ]
  },
  {
   "cell_type": "code",
   "execution_count": null,
   "id": "72b3584f",
   "metadata": {},
   "outputs": [],
   "source": [
    "all_results = evaluate_cv_forecasts(\n",
    "    cv_df=winter_F5_week_df,\n",
    "    target_df=heat_df, \n",
    "    period_for_nmae=(pd.Timestamp('2024-12-21'), pd.Timestamp('2025-03-20'))\n",
    ")\n",
    "summary = cv_evaluation_summary(all_results)\n",
    "_ = display_cv_summary(summary, sort_metric='mae', times_df=times_df) "
   ]
  },
  {
   "cell_type": "code",
   "execution_count": null,
   "id": "149f3c45",
   "metadata": {},
   "outputs": [],
   "source": [
    "all_loss_diffs = compute_loss_diffs(\n",
    "    all_results,\n",
    "    baseline_model='XGBoost'\n",
    ")\n",
    "ld_summary = cv_evaluation_summary(all_loss_diffs)\n",
    "_ = display_cv_summary(ld_summary, are_loss_diffs=True)"
   ]
  },
  {
   "cell_type": "code",
   "execution_count": null,
   "id": "4c7f1172",
   "metadata": {},
   "outputs": [],
   "source": [
    "fig = plotly_cv_metric_by_cutoff(\n",
    "    combined_results=all_results,\n",
    "    metric='mae',  # Change to 'rmse' or 'me' for other metrics\n",
    "    models=['SARIMAX', 'LSTM', 'XGBoost', 'SVMR'],\n",
    "    width=1000,\n",
    ")\n",
    "display_scrollable(fig)  "
   ]
  },
  {
   "cell_type": "code",
   "execution_count": null,
   "id": "09491249",
   "metadata": {},
   "outputs": [],
   "source": [
    "fig = plotly_cv_metric_by_cutoff(\n",
    "    combined_results=all_loss_diffs,\n",
    "    metric='mae',  # Change to 'rmse' or 'me' for other metrics\n",
    "    models=['LD-LSTM', 'LD-SARIMAX', 'LD-SVMR'],\n",
    "    width=1000,\n",
    ")\n",
    "display_scrollable(fig) "
   ]
  },
  {
   "cell_type": "code",
   "execution_count": null,
   "id": "a6a7d4b9",
   "metadata": {},
   "outputs": [],
   "source": [
    "fig = plotly_cutoffs_with_exog(\n",
    "    target_df=heat_df,\n",
    "    cv_df=winter_F5_week_df,\n",
    "    start_offset=24*7,\n",
    "    end_offset=24*3,\n",
    "    aux_df=aux_df,\n",
    "    exog_vars=['temperature'],\n",
    "    models=['SARIMAX', 'LSTM', 'XGBoost', 'SVMR'],\n",
    "    highlight_dayofweek=False,\n",
    "    order_of_models=['SARIMAX', 'LSTM'],\n",
    "    alpha=1.0,\n",
    "    base_height_per_panel=250,\n",
    ")\n",
    "display_scrollable(fig)"
   ]
  },
  {
   "cell_type": "markdown",
   "id": "4d8475a2",
   "metadata": {},
   "source": [
    "#### Spring"
   ]
  },
  {
   "cell_type": "code",
   "execution_count": null,
   "id": "8e02a3a1",
   "metadata": {},
   "outputs": [],
   "source": [
    "spring_F5_week_df = cv_df[\n",
    "    (cv_df['cutoff'] >= pd.Timestamp('2025-03-21')) &\n",
    "    (cv_df['cutoff'] <= pd.Timestamp('2025-06-21'))\n",
    "].copy()\n",
    "display_info_cv(spring_F5_week_df)"
   ]
  },
  {
   "cell_type": "code",
   "execution_count": null,
   "id": "d0e190ff",
   "metadata": {},
   "outputs": [],
   "source": [
    "all_results = evaluate_cv_forecasts(\n",
    "    cv_df=spring_F5_week_df,\n",
    "    target_df=heat_df, \n",
    "    period_for_nmae=(pd.Timestamp('2025-03-21'), pd.Timestamp('2025-05-12'))\n",
    ")\n",
    "summary = cv_evaluation_summary(all_results)\n",
    "_ = display_cv_summary(summary, sort_metric='mae', times_df=times_df) "
   ]
  },
  {
   "cell_type": "code",
   "execution_count": null,
   "id": "ada9a556",
   "metadata": {},
   "outputs": [],
   "source": [
    "all_loss_diffs = compute_loss_diffs(\n",
    "    all_results,\n",
    "    baseline_model='XGBoost'\n",
    ")\n",
    "ld_summary = cv_evaluation_summary(all_loss_diffs)\n",
    "_ = display_cv_summary(ld_summary, are_loss_diffs=True)"
   ]
  },
  {
   "cell_type": "code",
   "execution_count": null,
   "id": "2e888bec",
   "metadata": {},
   "outputs": [],
   "source": [
    "fig = plotly_cv_metric_by_cutoff(\n",
    "    combined_results=all_results,\n",
    "    metric='mae',  # Change to 'rmse' or 'me' for other metrics\n",
    "    width=1000,\n",
    ")\n",
    "display_scrollable(fig)  "
   ]
  },
  {
   "cell_type": "code",
   "execution_count": null,
   "id": "5dee1bcf",
   "metadata": {},
   "outputs": [],
   "source": [
    "fig = plotly_cv_metric_by_cutoff(\n",
    "    combined_results=all_loss_diffs,\n",
    "    metric='mae',  # Change to 'rmse' or 'me' for other metrics\n",
    "    width=1000,\n",
    ")\n",
    "display_scrollable(fig) "
   ]
  },
  {
   "cell_type": "code",
   "execution_count": null,
   "id": "2c6a05c4",
   "metadata": {},
   "outputs": [],
   "source": [
    "fig = plotly_cutoffs_with_exog(\n",
    "    target_df=heat_df,\n",
    "    cv_df=spring_F5_week_df,\n",
    "    start_offset=24*7,\n",
    "    end_offset=24*3,\n",
    "    aux_df=aux_df,\n",
    "    exog_vars=['temperature'],\n",
    "    models=['SARIMAX', 'LSTM', 'XGBoost'],\n",
    "    highlight_dayofweek=False,\n",
    "    alpha=1.0,\n",
    "    base_height_per_panel=250,\n",
    ")\n",
    "display_scrollable(fig)"
   ]
  },
  {
   "cell_type": "markdown",
   "id": "c5d8f3c9",
   "metadata": {},
   "source": [
    "## Thesis Figures"
   ]
  },
  {
   "cell_type": "code",
   "execution_count": null,
   "id": "dd3a91d8",
   "metadata": {},
   "outputs": [],
   "source": [
    "from heat_forecast.utils.plotting import extract_subplot\n",
    "def set_plotly_style(fig):\n",
    "    fig.update_layout(\n",
    "        font=dict(size=12),\n",
    "        title_font=dict(size=14),\n",
    "        legend=dict(font=dict(size=12)),\n",
    "    )\n",
    "    fig.update_xaxes(tickfont=dict(size=12), title_font=dict(size=12))\n",
    "    fig.update_yaxes(tickfont=dict(size=12), title_font=dict(size=12))\n",
    "    return fig\n",
    "def gray_shade(intensity: float):\n",
    "    c = np.clip(1-intensity, 0, 1)\n",
    "    return f\"rgb({int(c*255)},{int(c*255)},{int(c*255)})\""
   ]
  },
  {
   "cell_type": "code",
   "execution_count": null,
   "id": "5a9b37b1",
   "metadata": {},
   "outputs": [],
   "source": [
    "cutoffs = winter_F1_day_df['cutoff'].unique()\n",
    "selected_cutoffs = cutoffs[(cutoffs > pd.Timestamp('2025-02-15 00:00:00')) & (cutoffs < pd.Timestamp('2025-03-02 00:00:00'))]\n",
    "winter_F1_day_df_selected = winter_F1_day_df[winter_F1_day_df['cutoff'].isin(selected_cutoffs)]\n",
    "\n",
    "fig = plotly_cutoffs_with_exog(\n",
    "    target_df=heat_df,\n",
    "    cv_df=winter_F1_day_df_selected,\n",
    "    start_offset=0,\n",
    "    end_offset=0,\n",
    "    models=['MSTL'],\n",
    "    id='F1',\n",
    "    highlight_dayofweek=False,\n",
    "    alpha=1.0,\n",
    "    base_height_per_panel=200,\n",
    "    width_per_day=45,\n",
    "    exog_vars=['temperature'],\n",
    "    aux_df=aux_df,\n",
    "    grayscale_safe=True,\n",
    "    title=None\n",
    ")\n",
    "fig = set_plotly_style(fig)\n",
    "for r in range(1, 3):\n",
    "    fig.update_xaxes(showgrid=True, tickformat=r\"%b %d\", row=r, col=1)\n",
    "print(f\"Figure width: {fig.layout.width} px\")\n",
    "print(f\"Figure height: {fig.layout.height} px\")\n",
    "# import plotly.io as pio\n",
    "# pio.write_html(\n",
    "#     fig, \"fig.html\",\n",
    "#     include_plotlyjs=\"inline\", full_html=True,\n",
    "#     config={\"toImageButtonOptions\": {\"format\": \"svg\"}}\n",
    "# )\n",
    "import plotly.io as pio\n",
    "pio.write_html(\n",
    "    fig, \"fig.html\",\n",
    "    include_plotlyjs=\"inline\", full_html=True,\n",
    "    config={\"toImageButtonOptions\": {\"format\": \"svg\"}}\n",
    ")\n",
    "fig"
   ]
  },
  {
   "cell_type": "code",
   "execution_count": null,
   "id": "5e42fc58",
   "metadata": {},
   "outputs": [],
   "source": [
    "all_results = evaluate_cv_forecasts(\n",
    "    cv_df=winter_F1_day_df,\n",
    "    target_df=heat_df, \n",
    "    period_for_nmae=(pd.Timestamp('2024-09-20'), pd.Timestamp('2024-12-21'))\n",
    ")\n",
    "fig = plotly_cv_metric_by_cutoff(\n",
    "    combined_results=all_results,\n",
    "    metric='mae',  # Change to 'rmse' or 'me' for other metrics\n",
    "    models=['LSTM', 'XGBoost'],\n",
    "    aux_df=None,\n",
    "    as_lineplot=True,\n",
    "    height_per_row=300,\n",
    "    grayscale_safe=True,\n",
    "    width=650\n",
    ")\n",
    "fig.data[1].line.color = gray_shade(0.4)\n",
    "fig.update_layout(\n",
    "    legend=dict(\n",
    "        x=0.8,          \n",
    "        y=1.0,          \n",
    "        bgcolor=\"rgba(255,255,255,1)\",  # legend background\n",
    "        bordercolor=\"white\",\n",
    "        borderwidth=1,\n",
    "        title=\"\"\n",
    "    ),\n",
    "    title_text=None,\n",
    "    margin=dict(t=20),\n",
    ")\n",
    "for i in range(len(fig.layout.annotations)):\n",
    "    fig.layout.annotations[i].text = \"\"\n",
    "pio.write_html(\n",
    "    fig, \"fig.html\",\n",
    "    include_plotlyjs=\"inline\", full_html=True,\n",
    "    config={\"toImageButtonOptions\": {\"format\": \"svg\"}}\n",
    ")\n",
    "fig"
   ]
  },
  {
   "cell_type": "code",
   "execution_count": null,
   "id": "97e473ae",
   "metadata": {},
   "outputs": [],
   "source": [
    "all_results = evaluate_cv_forecasts(\n",
    "    cv_df=winter_F1_day_df,\n",
    "    target_df=heat_df, \n",
    "    period_for_nmae=(pd.Timestamp('2024-09-20'), pd.Timestamp('2024-12-21'))\n",
    ")\n",
    "fig = plotly_cv_metric_by_cutoff(\n",
    "    combined_results=all_results,\n",
    "    metric='mae',  # Change to 'rmse' or 'me' for other metrics\n",
    "    models=['LSTM', 'XGBoost', 'SARIMAX'],\n",
    "    aux_df=None,\n",
    "    as_lineplot=True,\n",
    "    height_per_row=300,\n",
    "    grayscale_safe=True,\n",
    "    width=650\n",
    ")\n",
    "fig.data = fig.data[:1] + fig.data[2:]\n",
    "fig.data[1].line.color = gray_shade(0.4)\n",
    "fig.update_layout(\n",
    "    legend=dict(\n",
    "        x=0.8,          \n",
    "        y=1.0,          \n",
    "        bgcolor=\"rgba(255,255,255,1)\",  # legend background\n",
    "        bordercolor=\"white\",\n",
    "        borderwidth=1,\n",
    "        title=\"\"\n",
    "    ),\n",
    "    title_text=None,\n",
    "    margin=dict(t=20),\n",
    ")\n",
    "for i in range(len(fig.layout.annotations)):\n",
    "    fig.layout.annotations[i].text = \"\"\n",
    "pio.write_html(\n",
    "    fig, \"fig.html\",\n",
    "    include_plotlyjs=\"inline\", full_html=True,\n",
    "    config={\"toImageButtonOptions\": {\"format\": \"svg\"}}\n",
    ")\n",
    "fig"
   ]
  },
  {
   "cell_type": "code",
   "execution_count": null,
   "id": "9cae7384",
   "metadata": {},
   "outputs": [],
   "source": [
    "all_results = evaluate_cv_forecasts(\n",
    "    cv_df=winter_F1_day_df,\n",
    "    target_df=heat_df, \n",
    "    period_for_nmae=(pd.Timestamp('2024-09-20'), pd.Timestamp('2024-12-21'))\n",
    ")\n",
    "fig = plotly_cv_metric_by_cutoff(\n",
    "    combined_results=all_results,\n",
    "    metric='mae',  # Change to 'rmse' or 'me' for other metrics\n",
    "    models=['LSTM', 'XGBoost'],\n",
    "    aux_df=aux_df,\n",
    "    as_lineplot=True,\n",
    "    height_per_row=300,\n",
    "    grayscale_safe=True,\n",
    "    width=650\n",
    ")\n",
    "for i in range(len(fig.layout.annotations)):\n",
    "    fig.layout.annotations[i].text = \"\"\n",
    "fig = extract_subplot(fig, 2, 1)\n",
    "fig.update_layout(\n",
    "    height=300,\n",
    "    width=650,\n",
    "    margin=dict(l=60, r=20, t=20, b=60),\n",
    "    showlegend=False\n",
    ")\n",
    "pio.write_html(\n",
    "    fig, \"fig.html\",\n",
    "    include_plotlyjs=\"inline\", full_html=True,\n",
    "    config={\"toImageButtonOptions\": {\"format\": \"svg\"}}\n",
    ")\n",
    "fig\n"
   ]
  },
  {
   "cell_type": "code",
   "execution_count": null,
   "id": "0f80753d",
   "metadata": {},
   "outputs": [],
   "source": [
    "all_maes = all_results[all_results['metric'] == 'mae']\n",
    "corr_LSTM_XGB = pd.Series.corr(all_maes['LSTM'], all_maes['XGBoost'])\n",
    "print(\"Correlation between LSTM and XGBoost MAE errors:\", corr_LSTM_XGB)\n",
    "corr_LSTM_SARIMAX = pd.Series.corr(all_maes['LSTM'], all_maes['SARIMAX'])\n",
    "print(\"Correlation between LSTM and SARIMAX MAE errors:\", corr_LSTM_SARIMAX)\n",
    "corr_SARIMAX_XGB = pd.Series.corr(all_maes['SARIMAX'], all_maes['XGBoost'])\n",
    "print(\"Correlation between SARIMAX and XGBoost MAE errors:\", corr_SARIMAX_XGB)"
   ]
  },
  {
   "cell_type": "code",
   "execution_count": null,
   "id": "b8656c57",
   "metadata": {},
   "outputs": [],
   "source": [
    "by_horizon_dict = by_horizon_preds(winter_F1_day_df)\n",
    "per_h_summ = compute_error_stats_by_horizon(\n",
    "    by_horizon_dict=by_horizon_dict,\n",
    "    target_df=heat_df,\n",
    "    nmae_period=(pd.Timestamp('2024-09-20'), pd.Timestamp('2024-12-21')),\n",
    "    log_every=None,\n",
    "    show_per_cutoff=True,\n",
    "    evaluate_fn=evaluate_cv_forecasts,\n",
    "    summarize_fn=cv_evaluation_summary,\n",
    "    by_cutoff_plot_fn=partial(\n",
    "        plotly_cv_metric_by_cutoff, \n",
    "        models=['LSTM', 'XGBoost', 'SARIMAX', 'SVMR'],\n",
    "        width=2000\n",
    "    ),\n",
    ")"
   ]
  },
  {
   "cell_type": "code",
   "execution_count": null,
   "id": "f23b67ae",
   "metadata": {},
   "outputs": [],
   "source": [
    "# Target grouped by month-dayhour\n",
    "fig1 = plotly_daily_seasonality(\n",
    "    winter_target,\n",
    "    show_legend=True,\n",
    "    colors=px.colors.qualitative.Dark2,\n",
    "    display_fig=False,\n",
    "    width=650,\n",
    "    height_per_id=300\n",
    ")\n",
    "for i in range(len(fig1.layout.annotations)):\n",
    "    fig1.layout.annotations[i].text = \"\"\n",
    "fig1.update_layout(\n",
    "    margin=dict(l=60, r=20, t=20, b=60),\n",
    "    title_text=None,\n",
    ")\n",
    "pio.write_html(\n",
    "    fig1, \"fig1.html\",\n",
    "    include_plotlyjs=\"inline\", full_html=True,\n",
    "    config={\"toImageButtonOptions\": {\"format\": \"svg\"}}\n",
    ")\n",
    "display(fig1)\n",
    "# Errors gouped by horizon\n",
    "agg = 'mean'\n",
    "fig2 = plotly_models_vs_horizon(per_h_summ=per_h_summ, \n",
    "                         models=['LSTM', 'XGBoost', 'SARIMAX', 'SVMR', 'MSTL', 'Naive24h'],\n",
    "                         metric='mae', \n",
    "                         agg=agg,\n",
    "                         display_fig=False,\n",
    "                         width=650, height=320)\n",
    "for i in range(len(fig2.layout.annotations)):\n",
    "    fig2.layout.annotations[i].text = \"\"\n",
    "fig2.update_layout(\n",
    "    margin=dict(l=60, r=20, t=20, b=60),\n",
    "    title_text=None,\n",
    ")\n",
    "pio.write_html(\n",
    "    fig2, \"fig2.html\",\n",
    "    include_plotlyjs=\"inline\", full_html=True,\n",
    "    config={\"toImageButtonOptions\": {\"format\": \"svg\"}}\n",
    ")\n",
    "display(fig2)\n",
    "fig3 = plotly_models_vs_horizon(per_h_summ=per_h_summ, \n",
    "                         models=['LSTM', 'XGBoost', 'SARIMAX', 'SVMR', 'MSTL', 'Naive24h'],\n",
    "                         metric='smape', agg=agg,\n",
    "                         display_fig=False,\n",
    "                         width=650, height=320)\n",
    "for i in range(len(fig3.layout.annotations)):\n",
    "    fig3.layout.annotations[i].text = \"\"\n",
    "fig3.update_layout(\n",
    "    margin=dict(l=60, r=20, t=20, b=60),\n",
    "    title_text=None,\n",
    ")\n",
    "pio.write_html(\n",
    "    fig3, \"fig3.html\",\n",
    "    include_plotlyjs=\"inline\", full_html=True,\n",
    "    config={\"toImageButtonOptions\": {\"format\": \"svg\"}}\n",
    ")\n",
    "display(fig3)"
   ]
  }
 ],
 "metadata": {
  "kernelspec": {
   "display_name": "cwq",
   "language": "python",
   "name": "python3"
  },
  "language_info": {
   "codemirror_mode": {
    "name": "ipython",
    "version": 3
   },
   "file_extension": ".py",
   "mimetype": "text/x-python",
   "name": "python",
   "nbconvert_exporter": "python",
   "pygments_lexer": "ipython3",
   "version": "3.12.9"
  }
 },
 "nbformat": 4,
 "nbformat_minor": 5
}
